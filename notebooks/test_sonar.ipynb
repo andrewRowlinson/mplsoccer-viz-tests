{
 "cells": [
  {
   "cell_type": "code",
   "execution_count": null,
   "id": "11b757f3-d36f-4379-9409-5ec9f9e19bc1",
   "metadata": {},
   "outputs": [],
   "source": [
    "from mplsoccer import Pitch, VerticalPitch, arrowhead_marker\n",
    "from mplsoccer.dimensions import valid, size_varies, center_scale_dims\n",
    "import matplotlib.pyplot as plt\n",
    "import numpy as np\n",
    "import random\n",
    "np.random.seed(42)\n",
    "random.seed(42)"
   ]
  },
  {
   "cell_type": "code",
   "execution_count": null,
   "id": "a06b2c88-bd74-4060-a8dc-2d44e9624faa",
   "metadata": {},
   "outputs": [],
   "source": [
    "dim = center_scale_dims(pitch_width=68, pitch_length=105,\n",
    "                        width=5, length=100, invert_y=False)\n",
    "valid.extend([dim])"
   ]
  },
  {
   "cell_type": "markdown",
   "id": "c2525539-f4d4-419c-9050-c4a7aac50db2",
   "metadata": {},
   "source": [
    "# Check if limited number of arrows that the sonars face in the same direction"
   ]
  },
  {
   "cell_type": "code",
   "execution_count": null,
   "id": "b398f2db-1e6a-437f-97dc-97c716f840bf",
   "metadata": {},
   "outputs": [],
   "source": [
    "for pitch_type in valid:\n",
    "    if pitch_type in size_varies:\n",
    "        kwargs = {'pitch_length': 105, 'pitch_width': 68}\n",
    "    else:\n",
    "        kwargs = {}\n",
    "    pitch = Pitch(pitch_type=pitch_type, line_zorder=2, **kwargs)\n",
    "    pitch_vertical = VerticalPitch(pitch_type=pitch_type, line_zorder=2, **kwargs)\n",
    "    fig, ax = plt.subplots(ncols=2, figsize=(12, 6))\n",
    "    if type(pitch_type) == str:\n",
    "        fig.suptitle(pitch_type)\n",
    "    else:\n",
    "        fig.suptitle(type(pitch_type).__name__)\n",
    "        \n",
    "    pitch.draw(ax[0])\n",
    "    pitch_vertical.draw(ax[1])\n",
    "    \n",
    "    x = np.random.uniform(low=pitch.dim.pitch_extent[0], high=pitch.dim.pitch_extent[1], size=5)\n",
    "    y = np.random.uniform(low=pitch.dim.pitch_extent[2], high=pitch.dim.pitch_extent[3], size=5)\n",
    "    x_end = np.random.uniform(low=pitch.dim.pitch_extent[0], high=pitch.dim.pitch_extent[1], size=5)\n",
    "    y_end = np.random.uniform(low=pitch.dim.pitch_extent[2], high=pitch.dim.pitch_extent[3], size=5)\n",
    "    \n",
    "    pitch.arrows(x, y, x_end, y_end, ax=ax[0], color='red')\n",
    "    stats = pitch.bin_statistic(x, y)\n",
    "    hm = pitch.heatmap(stats, ax=ax[0], alpha=0.1)\n",
    "    angle, distance = pitch.calculate_angle_and_distance(x, y, x_end, y_end)\n",
    "    bs_sonar = pitch.bin_statistic_sonar(x, y, angle, bins=(5, 4, 20))\n",
    "    axs_sonar = pitch.sonar_grid(bs_sonar, width=pitch.dim.width / 4 if type(pitch_type) == str else 10, ax=ax[0])\n",
    "    \n",
    "    pitch_vertical.arrows(x, y, x_end, y_end, ax=ax[1], color='red')\n",
    "    stats_vertical = pitch_vertical.bin_statistic(x, y)\n",
    "    hm = pitch_vertical.heatmap(stats, ax=ax[1], alpha=0.1)\n",
    "    angle, distance = pitch_vertical.calculate_angle_and_distance(x, y, x_end, y_end)\n",
    "    bs_sonar_vertical = pitch_vertical.bin_statistic_sonar(x, y, angle, bins=(5, 4, 20))\n",
    "    axs_sonar_vertical = pitch_vertical.sonar_grid(bs_sonar, width=pitch_vertical.dim.width / 4 if type(pitch_type) == str else 10, ax=ax[1])"
   ]
  }
 ],
 "metadata": {
  "kernelspec": {
   "display_name": "Python 3 (ipykernel)",
   "language": "python",
   "name": "python3"
  },
  "language_info": {
   "codemirror_mode": {
    "name": "ipython",
    "version": 3
   },
   "file_extension": ".py",
   "mimetype": "text/x-python",
   "name": "python",
   "nbconvert_exporter": "python",
   "pygments_lexer": "ipython3",
   "version": "3.11.9"
  }
 },
 "nbformat": 4,
 "nbformat_minor": 5
}
