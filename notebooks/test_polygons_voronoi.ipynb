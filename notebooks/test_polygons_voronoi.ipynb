{
 "cells": [
  {
   "cell_type": "code",
   "execution_count": null,
   "metadata": {},
   "outputs": [],
   "source": [
    "from mplsoccer import Pitch, VerticalPitch, Standardizer\n",
    "from mplsoccer.dimensions import valid, size_varies, center_scale_dims\n",
    "import matplotlib.pyplot as plt\n",
    "import numpy as np\n",
    "np.random.seed(42)"
   ]
  },
  {
   "cell_type": "code",
   "execution_count": null,
   "metadata": {},
   "outputs": [],
   "source": [
    "dim = center_scale_dims(pitch_width=68, pitch_length=105,\n",
    "                        width=5, length=100, invert_y=False)\n",
    "valid.extend([dim])"
   ]
  },
  {
   "cell_type": "markdown",
   "metadata": {},
   "source": [
    "# Test polygons"
   ]
  },
  {
   "cell_type": "code",
   "execution_count": null,
   "metadata": {},
   "outputs": [],
   "source": [
    "for pitch_type in valid:\n",
    "    if pitch_type in size_varies:\n",
    "        kwargs = {'pitch_length': 105, 'pitch_width': 68}\n",
    "    else:\n",
    "        kwargs = {}\n",
    "    pitch = Pitch(pitch_type=pitch_type, line_zorder=2, **kwargs)\n",
    "    pitch_vertical = VerticalPitch(pitch_type=pitch_type, line_zorder=2, **kwargs)\n",
    "    fig, ax = plt.subplots(ncols=2, figsize=(12, 7))\n",
    "    if type(pitch_type) == str:\n",
    "        fig.suptitle(pitch_type)\n",
    "    else:\n",
    "        fig.suptitle(type(pitch_type).__name__)\n",
    "    \n",
    "    x = np.random.uniform(low=pitch.dim.pitch_extent[0], high=pitch.dim.pitch_extent[1], size=5)\n",
    "    y = np.random.uniform(low=pitch.dim.pitch_extent[2], high=pitch.dim.pitch_extent[3], size=5)\n",
    "    points = np.concatenate([x.reshape(-1, 1), y.reshape(-1, 1)], axis=1)    # polygon take a list of sequences\n",
    "    #verts = np.expand_dims(points, axis=0)  # this also works instead of [points]\n",
    "    verts = [points]\n",
    "    pitch.draw(ax[0])\n",
    "    pitch_vertical.draw(ax[1])\n",
    "    \n",
    "    pitch.polygon(verts, fc='blue', alpha=0.7, ec='black', ax=ax[0])\n",
    "    pitch.scatter(x, y, color='red', ax=ax[0])\n",
    "    pitch_vertical.polygon(verts, fc='blue', alpha=0.7, ec='black', ax=ax[1])\n",
    "    pitch_vertical.scatter(x, y, color='red', ax=ax[1])"
   ]
  },
  {
   "cell_type": "markdown",
   "metadata": {},
   "source": [
    "# Test voronoi"
   ]
  },
  {
   "cell_type": "code",
   "execution_count": null,
   "metadata": {},
   "outputs": [],
   "source": [
    "for pitch_type in valid:\n",
    "    if pitch_type in size_varies:\n",
    "        kwargs = {'pitch_length': 105, 'pitch_width': 68}\n",
    "    else:\n",
    "        kwargs = {}\n",
    "    pitch = Pitch(pitch_type=pitch_type, line_zorder=2, **kwargs)\n",
    "    pitch_vertical = VerticalPitch(pitch_type=pitch_type, line_zorder=2, **kwargs)\n",
    "    fig, ax = plt.subplots(ncols=2, figsize=(12, 7))\n",
    "    if type(pitch_type) == str:\n",
    "        fig.suptitle(pitch_type)\n",
    "    else:\n",
    "        fig.suptitle(type(pitch_type).__name__)\n",
    "    \n",
    "    x = np.random.uniform(low=pitch.dim.pitch_extent[0], high=pitch.dim.pitch_extent[1], size=22)\n",
    "    y = np.random.uniform(low=pitch.dim.pitch_extent[2], high=pitch.dim.pitch_extent[3], size=22)\n",
    "    teams = np.array([0] * 11 + [1] * 11)\n",
    "    \n",
    "    pitch.draw(ax=ax[0])\n",
    "    pitch_vertical.draw(ax=ax[1])\n",
    "    \n",
    "    team1, team2 = pitch.voronoi(x, y, teams)\n",
    "    pitch.polygon(team1, color='blue', alpha=0.4, ax=ax[0])\n",
    "    pitch.polygon(team2, color='red', alpha=0.4, ax=ax[0])\n",
    "    pitch.scatter(x[teams==1], y[teams==1], color='blue', ax=ax[0])\n",
    "    pitch.scatter(x[teams==0], y[teams==0], color='red', ax=ax[0])\n",
    "\n",
    "    \n",
    "    team1_vertical, team2_vertical = pitch_vertical.voronoi(x, y, teams)\n",
    "    pitch_vertical.polygon(team1_vertical, color='blue', alpha=0.4, ax=ax[1])\n",
    "    pitch_vertical.polygon(team2_vertical, color='red', alpha=0.4, ax=ax[1])\n",
    "    pitch_vertical.scatter(x[teams==1], y[teams==1], color='blue', ax=ax[1])\n",
    "    pitch_vertical.scatter(x[teams==0], y[teams==0], color='red', ax=ax[1])"
   ]
  },
  {
   "cell_type": "markdown",
   "metadata": {},
   "source": [
    "# Test voronoi standardized - shove points through voronoi at each step standardize to next pitch coordinates so get same chart for each provider."
   ]
  },
  {
   "cell_type": "code",
   "execution_count": null,
   "metadata": {},
   "outputs": [],
   "source": [
    "x = np.random.uniform(low=0, high=120, size=22)\n",
    "y = np.random.uniform(low=0, high=80, size=22)\n",
    "teams = np.array([0] * 11 + [1] * 11)\n",
    "\n",
    "for idx, pitch_type in enumerate(valid):\n",
    "    if pitch_type in size_varies:\n",
    "        kwargs = {'pitch_length': 105, 'pitch_width': 68}\n",
    "    else:\n",
    "        kwargs = {}\n",
    "    pitch = Pitch(pitch_type=pitch_type, line_zorder=2, **kwargs)\n",
    "    pitch_vertical = VerticalPitch(pitch_type=pitch_type, line_zorder=2, **kwargs)\n",
    "    fig, ax = plt.subplots(ncols=2, figsize=(12, 7))\n",
    "    if type(pitch_type) == str:\n",
    "        fig.suptitle(pitch_type)\n",
    "    else:\n",
    "        fig.suptitle(type(pitch_type).__name__)\n",
    "\n",
    "    pitch.draw(ax=ax[0])\n",
    "    pitch_vertical.draw(ax=ax[1])\n",
    "    \n",
    "    team1, team2 = pitch.voronoi(x, y, teams)\n",
    "    pitch.polygon(team1, color='blue', alpha=0.4, ax=ax[0])\n",
    "    pitch.polygon(team2, color='red', alpha=0.4, ax=ax[0])\n",
    "    pitch.scatter(x[teams==1], y[teams==1], color='blue', ax=ax[0])\n",
    "    pitch.scatter(x[teams==0], y[teams==0], color='red', ax=ax[0])\n",
    "    \n",
    "    team1_vertical, team2_vertical = pitch_vertical.voronoi(x, y, teams)\n",
    "    pitch_vertical.polygon(team1_vertical, color='blue', alpha=0.4, ax=ax[1])\n",
    "    pitch_vertical.polygon(team2_vertical, color='red', alpha=0.4, ax=ax[1])\n",
    "    pitch_vertical.scatter(x[teams==1], y[teams==1], color='blue', ax=ax[1])\n",
    "    pitch_vertical.scatter(x[teams==0], y[teams==0], color='red', ax=ax[1])\n",
    "    \n",
    "    if idx < len(valid) - 1:\n",
    "        standard = Standardizer(pitch_from=pitch_type, pitch_to=valid[idx+1],\n",
    "                                length_to=105, width_to=68, length_from=105, width_from=68)\n",
    "        x, y = standard.transform(x, y)"
   ]
  },
  {
   "cell_type": "markdown",
   "metadata": {},
   "source": [
    "# Test goal angle"
   ]
  },
  {
   "cell_type": "code",
   "execution_count": null,
   "metadata": {},
   "outputs": [],
   "source": [
    "for pitch_type in valid:\n",
    "    if pitch_type in size_varies:\n",
    "        kwargs = {'pitch_length': 105, 'pitch_width': 68}\n",
    "    else:\n",
    "        kwargs = {}\n",
    "    pitch = Pitch(pitch_type=pitch_type, line_zorder=2, **kwargs)\n",
    "    pitch_vertical = VerticalPitch(pitch_type=pitch_type, line_zorder=2, **kwargs)\n",
    "    fig, ax = plt.subplots(ncols=2, figsize=(12, 7))\n",
    "    if type(pitch_type) == str:\n",
    "        fig.suptitle(pitch_type)\n",
    "    else:\n",
    "        fig.suptitle(type(pitch_type).__name__)\n",
    "    \n",
    "    x = np.random.uniform(low=pitch.dim.pitch_extent[0], high=pitch.dim.pitch_extent[1], size=2)\n",
    "    y = np.random.uniform(low=pitch.dim.pitch_extent[2], high=pitch.dim.pitch_extent[3], size=2)\n",
    "\n",
    "    pitch.draw(ax[0])\n",
    "    pitch_vertical.draw(ax[1])\n",
    "    \n",
    "    pitch.goal_angle(x, y, ax=ax[0])\n",
    "    pitch_vertical.goal_angle(x, y, ax=ax[1])\n",
    "\n",
    "    pitch.scatter(x, y, color='red', ax=ax[0])\n",
    "    pitch_vertical.scatter(x, y, color='red', ax=ax[1])"
   ]
  },
  {
   "cell_type": "code",
   "execution_count": null,
   "metadata": {},
   "outputs": [],
   "source": [
    "for pitch_type in valid:\n",
    "    if pitch_type in size_varies:\n",
    "        kwargs = {'pitch_length': 105, 'pitch_width': 68}\n",
    "    else:\n",
    "        kwargs = {}\n",
    "    pitch = Pitch(pitch_type=pitch_type, line_zorder=2, **kwargs)\n",
    "    pitch_vertical = VerticalPitch(pitch_type=pitch_type, line_zorder=2, **kwargs)\n",
    "    fig, ax = plt.subplots(ncols=2, figsize=(12, 7))\n",
    "    if type(pitch_type) == str:\n",
    "        fig.suptitle(pitch_type)\n",
    "    else:\n",
    "        fig.suptitle(type(pitch_type).__name__)\n",
    "    \n",
    "    x = np.random.uniform(low=pitch.dim.pitch_extent[0], high=pitch.dim.pitch_extent[1], size=2)\n",
    "    y = np.random.uniform(low=pitch.dim.pitch_extent[2], high=pitch.dim.pitch_extent[3], size=2)\n",
    "\n",
    "    pitch.draw(ax[0])\n",
    "    pitch_vertical.draw(ax[1])\n",
    "    \n",
    "    pitch.goal_angle(x, y, ax=ax[0], goal='left')\n",
    "    pitch_vertical.goal_angle(x, y, ax=ax[1], goal='left')\n",
    "\n",
    "    \n",
    "    pitch.scatter(x, y, color='red', ax=ax[0])\n",
    "    pitch_vertical.scatter(x, y, color='red', ax=ax[1])"
   ]
  }
 ],
 "metadata": {
  "kernelspec": {
   "display_name": "Python 3 (ipykernel)",
   "language": "python",
   "name": "python3"
  },
  "language_info": {
   "codemirror_mode": {
    "name": "ipython",
    "version": 3
   },
   "file_extension": ".py",
   "mimetype": "text/x-python",
   "name": "python",
   "nbconvert_exporter": "python",
   "pygments_lexer": "ipython3",
   "version": "3.11.9"
  }
 },
 "nbformat": 4,
 "nbformat_minor": 4
}
