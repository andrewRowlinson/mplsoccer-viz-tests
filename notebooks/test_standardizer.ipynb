{
 "cells": [
  {
   "cell_type": "code",
   "execution_count": 1,
   "metadata": {},
   "outputs": [],
   "source": [
    "from mplsoccer import Pitch, VerticalPitch, Standardizer\n",
    "from mplsoccer.dimensions import valid, size_varies, create_pitch_dims\n",
    "import matplotlib.pyplot as plt\n",
    "import numpy as np\n",
    "import random\n",
    "np.random.seed(42)\n",
    "random.seed(42)"
   ]
  },
  {
   "cell_type": "markdown",
   "metadata": {},
   "source": [
    "# Check random transform"
   ]
  },
  {
   "cell_type": "code",
   "execution_count": 8,
   "metadata": {},
   "outputs": [
    {
     "data": {
      "text/plain": [
       "Text(0.5, 0.98, 'from uefa to statsbomb')"
      ]
     },
     "execution_count": 8,
     "metadata": {},
     "output_type": "execute_result"
    },
    {
     "data": {
      "image/png": "[encoded data removed]",
      "text/plain": [
       "<Figure size 1152x288 with 2 Axes>"
      ]
     },
     "metadata": {},
     "output_type": "display_data"
    }
   ],
   "source": [
    "# from\n",
    "pitch_type_from = np.random.choice(valid)\n",
    "length_from = random.randint(a=90, b=115)\n",
    "width_from = random.randint(a=55, b=75)\n",
    "# to\n",
    "pitch_type_to = np.random.choice(valid)\n",
    "length_to = random.randint(a=90, b=115)\n",
    "width_to = random.randint(a=55, b=75)\n",
    "# pitches\n",
    "pitch_from = Pitch(pitch_type=pitch_type_from, pitch_width=width_from, pitch_length=length_from)\n",
    "pitch_to = Pitch(pitch_type=pitch_type_to, pitch_width=width_to, pitch_length=length_to)\n",
    "# random points\n",
    "x = np.random.uniform(low=pitch_from.dim.pitch_extent[0], high=pitch_from.dim.pitch_extent[1], size=100)\n",
    "y = np.random.uniform(low=pitch_from.dim.pitch_extent[2], high=pitch_from.dim.pitch_extent[3], size=100)\n",
    "# transform\n",
    "standard = Standardizer(pitch_from=pitch_type_from, pitch_to=pitch_type_to,\n",
    "                        length_from=length_from, width_from=width_from,\n",
    "                        length_to=length_to, width_to=width_to,)\n",
    "x_std, y_std = standard.transform(x, y)\n",
    "# plot\n",
    "fig, ax = plt.subplots(ncols=2, figsize=(16, 4))\n",
    "pitch_from.draw(ax=ax[0])\n",
    "pitch_to.draw(ax=ax[1])\n",
    "pitch_from.scatter(x, y, ax=ax[0])\n",
    "pitch_to.scatter(x_std, y_std, ax=ax[1])\n",
    "fig.suptitle(f'from {pitch_type_from} to {pitch_type_to}')"
   ]
  },
  {
   "cell_type": "markdown",
   "metadata": {},
   "source": [
    "# Check the reverse transform works"
   ]
  },
  {
   "cell_type": "code",
   "execution_count": 3,
   "metadata": {},
   "outputs": [],
   "source": [
    "num_pitches = 1000\n",
    "num_points = 100000\n",
    "for i in range(num_pitches):\n",
    "    # from\n",
    "    pitch_type_from = np.random.choice(valid)\n",
    "    length_from = random.randint(a=90, b=115)\n",
    "    width_from = random.randint(a=55, b=75)\n",
    "    # to\n",
    "    pitch_type_to = np.random.choice(valid)\n",
    "    length_to = random.randint(a=90, b=115)\n",
    "    width_to = random.randint(a=55, b=75)\n",
    "    # pitches\n",
    "    standard = Standardizer(pitch_from=pitch_type_from, pitch_to=pitch_type_to,\n",
    "                            length_from=length_from, width_from=width_from,\n",
    "                            length_to=length_to, width_to=width_to,)\n",
    "    # random points\n",
    "    x = np.random.uniform(low=standard.dim_from.pitch_extent[0], high=standard.dim_from.pitch_extent[1], size=num_points)\n",
    "    y = np.random.uniform(low=standard.dim_from.pitch_extent[2], high=standard.dim_from.pitch_extent[3], size=num_points)\n",
    "    x_std, y_std = standard.transform(x, y)\n",
    "    x_reverse, y_reverse = standard.transform(x_std, y_std, reverse=True)\n",
    "    if np.abs(x - x_reverse).sum() > 0.0000001:\n",
    "        print(f'Error: from {pitch_type_from} to {pitch_type_to}')\n",
    "    if np.abs(y - y_reverse).sum() > 0.0000001:\n",
    "        print(f'Error: from {pitch_type_from} to {pitch_type_to}')"
   ]
  },
  {
   "cell_type": "markdown",
   "metadata": {},
   "source": [
    "# Shove 100,000 points through 1000 pitch transforms (ending at the original) and check the result approximately equal the original values"
   ]
  },
  {
   "cell_type": "code",
   "execution_count": 4,
   "metadata": {},
   "outputs": [
    {
     "name": "stdout",
     "output_type": "stream",
     "text": [
      "Should be a very small difference: 2.216648358898017e-09\n",
      "Should be a very small difference: 1.9265416247981476e-09\n"
     ]
    }
   ],
   "source": [
    "num_pitches = 1000\n",
    "num_points = 100000\n",
    "pitch_types = np.random.choice(valid, size=num_pitches)\n",
    "pitch_types_shift = np.roll(pitch_types, shift=-1)\n",
    "pitch_length = random.randint(a=90, b=115)\n",
    "pitch_width = random.randint(a=55, b=75)\n",
    "if pitch_types[0] in size_varies:\n",
    "    dims = create_pitch_dims(pitch_types[0], pitch_width=pitch_width, pitch_length=pitch_length)\n",
    "else:\n",
    "    dims = create_pitch_dims(pitch_types[0])\n",
    "x = np.random.uniform(low=dims.pitch_extent[0], high=dims.pitch_extent[1], size=num_points)\n",
    "y = np.random.uniform(low=dims.pitch_extent[2], high=dims.pitch_extent[3], size=num_points)\n",
    "x_copy = x.copy()\n",
    "y_copy = y.copy()\n",
    "# test\n",
    "kwargs = {'width_from': pitch_width, 'length_from': pitch_length, 'width_to': pitch_width, 'length_to': pitch_length}\n",
    "for i in range(num_pitches):\n",
    "    pitch_from = pitch_types[i]\n",
    "    pitch_to = pitch_types_shift[i]\n",
    "    standard = Standardizer(pitch_from=pitch_from, pitch_to=pitch_to, **kwargs)\n",
    "    x, y = standard.transform(x, y)\n",
    "    \n",
    "print('Should be a very small difference:', np.abs(x - x_copy).sum())\n",
    "print('Should be a very small difference:', np.abs(y - y_copy).sum())"
   ]
  }
 ],
 "metadata": {
  "kernelspec": {
   "display_name": "Python 3 (ipykernel)",
   "language": "python",
   "name": "python3"
  },
  "language_info": {
   "codemirror_mode": {
    "name": "ipython",
    "version": 3
   },
   "file_extension": ".py",
   "mimetype": "text/x-python",
   "name": "python",
   "nbconvert_exporter": "python",
   "pygments_lexer": "ipython3",
   "version": "3.10.4"
  }
 },
 "nbformat": 4,
 "nbformat_minor": 4
}
