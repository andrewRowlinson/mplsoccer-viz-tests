{
 "cells": [
  {
   "cell_type": "code",
   "execution_count": null,
   "metadata": {},
   "outputs": [],
   "source": [
    "from mplsoccer import Pitch, VerticalPitch, arrowhead_marker\n",
    "from mplsoccer.dimensions import valid, size_varies, center_scale_dims\n",
    "import matplotlib.pyplot as plt\n",
    "import numpy as np\n",
    "import random\n",
    "np.random.seed(42)\n",
    "random.seed(42)"
   ]
  },
  {
   "cell_type": "code",
   "execution_count": null,
   "metadata": {},
   "outputs": [],
   "source": [
    "dim = center_scale_dims(pitch_width=68, pitch_length=105,\n",
    "                        width=5, length=100, invert_y=False)\n",
    "valid.extend([dim])"
   ]
  },
  {
   "cell_type": "markdown",
   "metadata": {},
   "source": [
    "# Check if limited number of arrows that the arrows face in the same direction"
   ]
  },
  {
   "cell_type": "code",
   "execution_count": null,
   "metadata": {},
   "outputs": [],
   "source": [
    "for pitch_type in valid:\n",
    "    if pitch_type in size_varies:\n",
    "        kwargs = {'pitch_length': 105, 'pitch_width': 68}\n",
    "    else:\n",
    "        kwargs = {}\n",
    "    pitch = Pitch(pitch_type=pitch_type, line_zorder=2, **kwargs)\n",
    "    pitch_vertical = VerticalPitch(pitch_type=pitch_type, line_zorder=2, **kwargs)\n",
    "    fig, ax = plt.subplots(ncols=2, figsize=(12, 6))\n",
    "    if type(pitch_type) == str:\n",
    "        fig.suptitle(pitch_type)\n",
    "    else:\n",
    "        fig.suptitle(type(pitch_type).__name__)\n",
    "        \n",
    "    pitch.draw(ax[0])\n",
    "    pitch_vertical.draw(ax[1])\n",
    "    \n",
    "    x = np.random.uniform(low=pitch.dim.pitch_extent[0], high=pitch.dim.pitch_extent[1], size=5)\n",
    "    y = np.random.uniform(low=pitch.dim.pitch_extent[2], high=pitch.dim.pitch_extent[3], size=5)\n",
    "    x_end = np.random.uniform(low=pitch.dim.pitch_extent[0], high=pitch.dim.pitch_extent[1], size=5)\n",
    "    y_end = np.random.uniform(low=pitch.dim.pitch_extent[2], high=pitch.dim.pitch_extent[3], size=5)\n",
    "    \n",
    "    pitch.arrows(x, y, x_end, y_end, ax=ax[0], color='red')\n",
    "    pitch.flow(x, y, x_end, y_end, ax=ax[0])\n",
    "    stats = pitch.bin_statistic(x, y)\n",
    "    hm = pitch.heatmap(stats, ax=ax[0], alpha=0.1)\n",
    "    \n",
    "    pitch_vertical.arrows(x, y, x_end, y_end, ax=ax[1], color='red')\n",
    "    pitch_vertical.flow(x, y, x_end, y_end, ax=ax[1])\n",
    "    stats_vertical = pitch_vertical.bin_statistic(x, y)\n",
    "    hm = pitch_vertical.heatmap(stats, ax=ax[1], alpha=0.1)"
   ]
  },
  {
   "cell_type": "markdown",
   "metadata": {},
   "source": [
    "# Check the distance is the same as the angle"
   ]
  },
  {
   "cell_type": "code",
   "execution_count": null,
   "metadata": {},
   "outputs": [],
   "source": [
    "for pitch_type in valid:\n",
    "    if pitch_type in size_varies:\n",
    "        kwargs = {'pitch_length': 105, 'pitch_width': 68}\n",
    "    else:\n",
    "        kwargs = {}\n",
    "    pitch = Pitch(pitch_type=pitch_type, line_zorder=2, **kwargs)\n",
    "    pitch_vertical = VerticalPitch(pitch_type=pitch_type, line_zorder=2, **kwargs)\n",
    "    fig, ax = plt.subplots(ncols=2, figsize=(12, 6))\n",
    "    if type(pitch_type) == str:\n",
    "        fig.suptitle(pitch_type)\n",
    "    else:\n",
    "        fig.suptitle(type(pitch_type).__name__)\n",
    "        \n",
    "    pitch.draw(ax[0])\n",
    "    pitch_vertical.draw(ax[1])\n",
    "    \n",
    "    x = np.random.uniform(low=pitch.dim.pitch_extent[0], high=pitch.dim.pitch_extent[1], size=5)\n",
    "    y = np.random.uniform(low=pitch.dim.pitch_extent[2], high=pitch.dim.pitch_extent[3], size=5)\n",
    "    x_end = np.random.uniform(low=pitch.dim.pitch_extent[0], high=pitch.dim.pitch_extent[1], size=5)\n",
    "    y_end = np.random.uniform(low=pitch.dim.pitch_extent[2], high=pitch.dim.pitch_extent[3], size=5)\n",
    "    \n",
    "    pitch.arrows(x, y, x_end, y_end, ax=ax[0], color='red')\n",
    "    pitch.flow(x, y, x_end, y_end, arrow_type='average', ax=ax[0])\n",
    "    stats = pitch.bin_statistic(x, y)\n",
    "    hm = pitch.heatmap(stats, ax=ax[0], alpha=0.1)\n",
    "    \n",
    "    pitch_vertical.arrows(x, y, x_end, y_end, ax=ax[1], color='red')\n",
    "    pitch_vertical.flow(x, y, x_end, y_end, arrow_type='average', ax=ax[1])\n",
    "    stats_vertical = pitch_vertical.bin_statistic(x, y)\n",
    "    hm = pitch_vertical.heatmap(stats, ax=ax[1], alpha=0.1)"
   ]
  },
  {
   "cell_type": "markdown",
   "metadata": {},
   "source": [
    "# Check the angle points in the same direction as the arrow"
   ]
  },
  {
   "cell_type": "code",
   "execution_count": null,
   "metadata": {},
   "outputs": [],
   "source": [
    "for pitch_type in valid:\n",
    "    if pitch_type in size_varies:\n",
    "        kwargs = {'pitch_length': 105, 'pitch_width': 68}\n",
    "    else:\n",
    "        kwargs = {}\n",
    "    pitch = Pitch(pitch_type=pitch_type, line_zorder=2, **kwargs)\n",
    "    pitch_vertical = VerticalPitch(pitch_type=pitch_type, line_zorder=2, **kwargs)\n",
    "    fig, ax = plt.subplots(ncols=2, figsize=(12, 6))\n",
    "    if type(pitch_type) == str:\n",
    "        fig.suptitle(pitch_type)\n",
    "    else:\n",
    "        fig.suptitle(type(pitch_type).__name__)\n",
    "    \n",
    "    pitch.draw(ax[0])\n",
    "    pitch_vertical.draw(ax[1])\n",
    "    \n",
    "    x = np.random.uniform(low=pitch.dim.pitch_extent[0], high=pitch.dim.pitch_extent[1], size=5)\n",
    "    y = np.random.uniform(low=pitch.dim.pitch_extent[2], high=pitch.dim.pitch_extent[3], size=5)\n",
    "    x_end = np.random.uniform(low=pitch.dim.pitch_extent[0], high=pitch.dim.pitch_extent[1], size=5)\n",
    "    y_end = np.random.uniform(low=pitch.dim.pitch_extent[2], high=pitch.dim.pitch_extent[3], size=5)\n",
    "\n",
    "    pitch.arrows(x, y, x_end, y_end, ax=ax[0], alpha=0.2, color='red')\n",
    "    pitch_vertical.arrows(x, y, x_end, y_end, ax=ax[1], alpha=0.2, color='red')\n",
    "\n",
    "    if not pitch.dim.aspect_equal:\n",
    "        x_new, y_new = pitch.standardizer.transform(x, y)\n",
    "        x_end_new, y_end_new = pitch.standardizer.transform(x_end, y_end)\n",
    "        angle, distance = pitch.calculate_angle_and_distance(x_new, y_new, x_end_new,\n",
    "                                                             y_end_new, degrees=True,\n",
    "                                                             standardized=True)\n",
    "    else:\n",
    "        angle, distance = pitch.calculate_angle_and_distance(x, y, x_end, y_end, degrees=True)\n",
    "    rotated_scatter = pitch.scatter(x, y, rotation_degrees=angle, s=200, marker=arrowhead_marker, ax=ax[0])\n",
    "\n",
    "\n",
    "    if not pitch.dim.aspect_equal:\n",
    "        x_new, y_new = pitch_vertical.standardizer.transform(x, y)\n",
    "        x_end_new, y_end_new = pitch_vertical.standardizer.transform(x_end, y_end)\n",
    "        angle_vertical, distance_vertical = pitch_vertical.calculate_angle_and_distance(x_new, y_new, x_end_new,\n",
    "                                                             y_end_new, degrees=True,\n",
    "                                                             standardized=True)\n",
    "    else:\n",
    "        angle_vertical, distance_vertical = pitch.calculate_angle_and_distance(x, y, x_end, y_end, degrees=True)\n",
    "    rotated_scatter_vertical = pitch_vertical.scatter(x, y, rotation_degrees=angle_vertical, s=200,\n",
    "                                                      marker=arrowhead_marker, ax=ax[1])"
   ]
  }
 ],
 "metadata": {
  "kernelspec": {
   "display_name": "Python 3 (ipykernel)",
   "language": "python",
   "name": "python3"
  },
  "language_info": {
   "codemirror_mode": {
    "name": "ipython",
    "version": 3
   },
   "file_extension": ".py",
   "mimetype": "text/x-python",
   "name": "python",
   "nbconvert_exporter": "python",
   "pygments_lexer": "ipython3",
   "version": "3.11.9"
  }
 },
 "nbformat": 4,
 "nbformat_minor": 4
}
