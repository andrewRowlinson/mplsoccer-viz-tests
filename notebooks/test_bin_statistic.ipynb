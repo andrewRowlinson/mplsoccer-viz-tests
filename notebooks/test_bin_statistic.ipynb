{
 "cells": [
  {
   "cell_type": "code",
   "execution_count": null,
   "metadata": {},
   "outputs": [],
   "source": [
    "from mplsoccer import Pitch\n",
    "from mplsoccer.dimensions import valid, size_varies, center_scale_dims\n",
    "import numpy as np\n",
    "np.random.seed(42)"
   ]
  },
  {
   "cell_type": "code",
   "execution_count": null,
   "metadata": {},
   "outputs": [],
   "source": [
    "dim = center_scale_dims(pitch_width=68, pitch_length=105,\n",
    "                        width=5, length=100, invert_y=False)\n",
    "valid.extend([dim])"
   ]
  },
  {
   "cell_type": "markdown",
   "metadata": {},
   "source": [
    "# Check all points categorized - random points"
   ]
  },
  {
   "cell_type": "code",
   "execution_count": null,
   "metadata": {},
   "outputs": [],
   "source": [
    "num_points = 10000000\n",
    "for pitch_type in valid:\n",
    "    if pitch_type in size_varies:\n",
    "        kwargs = {'pitch_length': 105, 'pitch_width': 68}\n",
    "    else:\n",
    "        kwargs = {}\n",
    "    pitch = Pitch(pitch_type=pitch_type, label=True, axis=True, **kwargs)\n",
    "    x = np.random.uniform(low=pitch.dim.pitch_extent[0], high=pitch.dim.pitch_extent[1], size=num_points)\n",
    "    y = np.random.uniform(low=pitch.dim.pitch_extent[2], high=pitch.dim.pitch_extent[3], size=num_points)\n",
    "    stats = pitch.bin_statistic(x, y)\n",
    "    if type(pitch_type) == str:\n",
    "        print(f'{pitch_type}. Num points: {stats[\"statistic\"].sum()}')\n",
    "    else:\n",
    "        print(f'{type(pitch_type).__name__}. Num points: {stats[\"statistic\"].sum()}')"
   ]
  },
  {
   "cell_type": "markdown",
   "metadata": {},
   "source": [
    "# Check all points categorized positional - random points"
   ]
  },
  {
   "cell_type": "code",
   "execution_count": null,
   "metadata": {},
   "outputs": [],
   "source": [
    "num_points = 10000000\n",
    "for pitch_type in valid:\n",
    "    if pitch_type in size_varies:\n",
    "        kwargs = {'pitch_length': 105, 'pitch_width': 68}\n",
    "    else:\n",
    "        kwargs = {}\n",
    "    pitch = Pitch(pitch_type=pitch_type, label=True, axis=True, **kwargs)\n",
    "    x = np.random.uniform(low=pitch.dim.pitch_extent[0], high=pitch.dim.pitch_extent[1], size=num_points)\n",
    "    y = np.random.uniform(low=pitch.dim.pitch_extent[2], high=pitch.dim.pitch_extent[3], size=num_points)\n",
    "    stats = pitch.bin_statistic_positional(x, y)\n",
    "    if type(pitch_type) == str:\n",
    "        print(f'{pitch_type}. Num points: {np.array([stat[\"statistic\"].sum() for stat in stats]).sum()}')\n",
    "    else:\n",
    "        print(f'{type(pitch_type).__name__} Num points: {np.array([stat[\"statistic\"].sum() for stat in stats]).sum()}')"
   ]
  },
  {
   "cell_type": "markdown",
   "metadata": {},
   "source": [
    "# Check all points categorized bin statistic positional y edges (8 * 1000000)"
   ]
  },
  {
   "cell_type": "code",
   "execution_count": null,
   "metadata": {},
   "outputs": [],
   "source": [
    "for pitch_type in valid:\n",
    "    if pitch_type in size_varies:\n",
    "        kwargs = {'pitch_length': 105, 'pitch_width': 68}\n",
    "    else:\n",
    "        kwargs = {}\n",
    "    pitch = Pitch(pitch_type=pitch_type, label=True, axis=True, **kwargs)\n",
    "    y = np.tile(pitch.dim.y_markings_sorted, 1000000)\n",
    "    x = np.random.uniform(low=pitch.dim.pitch_extent[0], high=pitch.dim.pitch_extent[1], size=y.size)\n",
    "    stats = pitch.bin_statistic_positional(x, y)\n",
    "    if type(pitch_type) == str:\n",
    "        print(f'{pitch_type}. Num points: {np.array([stat[\"statistic\"].sum() for stat in stats]).sum()}')\n",
    "    else:\n",
    "        print(f'{type(pitch_type).__name__}. Num points: {np.array([stat[\"statistic\"].sum() for stat in stats]).sum()}')"
   ]
  },
  {
   "cell_type": "markdown",
   "metadata": {},
   "source": [
    "# Check all points categorized bin statistic positional x edges (9 * 1000000)"
   ]
  },
  {
   "cell_type": "code",
   "execution_count": null,
   "metadata": {},
   "outputs": [],
   "source": [
    "for pitch_type in valid:\n",
    "    if pitch_type in size_varies:\n",
    "        kwargs = {'pitch_length': 105, 'pitch_width': 68}\n",
    "    else:\n",
    "        kwargs = {}\n",
    "    pitch = Pitch(pitch_type=pitch_type, label=True, axis=True, **kwargs)\n",
    "    x = np.tile(pitch.dim.x_markings_sorted, 1000000)\n",
    "    y = np.random.uniform(low=pitch.dim.pitch_extent[2], high=pitch.dim.pitch_extent[3], size=x.size)\n",
    "    stats = pitch.bin_statistic_positional(x, y)\n",
    "    if type(pitch_type) == str:\n",
    "        print(f'{pitch_type}. Num points: {np.array([stat[\"statistic\"].sum() for stat in stats]).sum()}')\n",
    "    else:\n",
    "        print(f'{type(pitch_type).__name__}. Num points: {np.array([stat[\"statistic\"].sum() for stat in stats]).sum()}')"
   ]
  }
 ],
 "metadata": {
  "kernelspec": {
   "display_name": "Python 3 (ipykernel)",
   "language": "python",
   "name": "python3"
  },
  "language_info": {
   "codemirror_mode": {
    "name": "ipython",
    "version": 3
   },
   "file_extension": ".py",
   "mimetype": "text/x-python",
   "name": "python",
   "nbconvert_exporter": "python",
   "pygments_lexer": "ipython3",
   "version": "3.11.9"
  }
 },
 "nbformat": 4,
 "nbformat_minor": 4
}
