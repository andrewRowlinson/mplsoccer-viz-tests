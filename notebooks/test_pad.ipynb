{
 "cells": [
  {
   "cell_type": "code",
   "execution_count": null,
   "metadata": {},
   "outputs": [],
   "source": [
    "from mplsoccer import Pitch, VerticalPitch\n",
    "from mplsoccer.dimensions import valid, size_varies, center_scale_dims\n",
    "import numpy as np\n",
    "import matplotlib.pyplot as plt"
   ]
  },
  {
   "cell_type": "code",
   "execution_count": null,
   "metadata": {},
   "outputs": [],
   "source": [
    "dim = center_scale_dims(pitch_width=68, pitch_length=105,\n",
    "                        width=5, length=100, invert_y=False)\n",
    "valid.extend([dim])"
   ]
  },
  {
   "cell_type": "markdown",
   "metadata": {},
   "source": [
    "# Horizontal"
   ]
  },
  {
   "cell_type": "markdown",
   "metadata": {},
   "source": [
    "# Top positive pad"
   ]
  },
  {
   "cell_type": "code",
   "execution_count": null,
   "metadata": {},
   "outputs": [],
   "source": [
    "for pitch_type in valid:\n",
    "    if pitch_type in size_varies:\n",
    "        kwargs = {'pitch_length': 105, 'pitch_width': 68}\n",
    "    else:\n",
    "        kwargs = {}\n",
    "    pad_top=20\n",
    "    if pitch_type == 'metricasports':\n",
    "        pad_top = pad_top / 100\n",
    "    if type(pitch_type) != str:\n",
    "        pad_top = pad_top / 10\n",
    "    pitch = Pitch(pitch_type=pitch_type, label=True, axis=True, pad_top=pad_top, **kwargs)\n",
    "    fig, ax = pitch.draw()"
   ]
  },
  {
   "cell_type": "markdown",
   "metadata": {},
   "source": [
    "# Top negative pad"
   ]
  },
  {
   "cell_type": "code",
   "execution_count": null,
   "metadata": {},
   "outputs": [],
   "source": [
    "for pitch_type in valid:\n",
    "    if pitch_type in size_varies:\n",
    "        kwargs = {'pitch_length': 105, 'pitch_width': 68}\n",
    "    else:\n",
    "        kwargs = {}\n",
    "    pad_top=-20\n",
    "    if pitch_type == 'metricasports':\n",
    "        pad_top = pad_top / 100\n",
    "    if type(pitch_type) != str:\n",
    "        pad_top = pad_top / 10\n",
    "    pitch = Pitch(pitch_type=pitch_type, label=True, axis=True, pad_top=pad_top, **kwargs)\n",
    "    fig, ax = pitch.draw()"
   ]
  },
  {
   "cell_type": "markdown",
   "metadata": {},
   "source": [
    "# Bottom positive pad"
   ]
  },
  {
   "cell_type": "code",
   "execution_count": null,
   "metadata": {},
   "outputs": [],
   "source": [
    "for pitch_type in valid:\n",
    "    if pitch_type in size_varies:\n",
    "        kwargs = {'pitch_length': 105, 'pitch_width': 68}\n",
    "    else:\n",
    "        kwargs = {}\n",
    "    pad_bottom=20\n",
    "    if pitch_type == 'metricasports':\n",
    "        pad_bottom = pad_bottom / 100\n",
    "    if type(pitch_type) != str:\n",
    "        pad_bottom = pad_bottom / 10\n",
    "    pitch = Pitch(pitch_type=pitch_type, label=True, axis=True, pad_bottom=pad_bottom, **kwargs)\n",
    "    fig, ax = pitch.draw()"
   ]
  },
  {
   "cell_type": "markdown",
   "metadata": {},
   "source": [
    "# Bottom negative pad"
   ]
  },
  {
   "cell_type": "code",
   "execution_count": null,
   "metadata": {},
   "outputs": [],
   "source": [
    "for pitch_type in valid:\n",
    "    if pitch_type in size_varies:\n",
    "        kwargs = {'pitch_length': 105, 'pitch_width': 68}\n",
    "    else:\n",
    "        kwargs = {}\n",
    "    pad_bottom=-20\n",
    "    if pitch_type == 'metricasports':\n",
    "        pad_bottom = pad_bottom / 100\n",
    "    if type(pitch_type) != str:\n",
    "        pad_bottom = pad_bottom / 10\n",
    "    pitch = Pitch(pitch_type=pitch_type, label=True, axis=True, pad_bottom=pad_bottom, **kwargs)\n",
    "    fig, ax = pitch.draw()"
   ]
  },
  {
   "cell_type": "markdown",
   "metadata": {},
   "source": [
    "# Left positive pad"
   ]
  },
  {
   "cell_type": "code",
   "execution_count": null,
   "metadata": {},
   "outputs": [],
   "source": [
    "for pitch_type in valid:\n",
    "    if pitch_type in size_varies:\n",
    "        kwargs = {'pitch_length': 105, 'pitch_width': 68}\n",
    "    else:\n",
    "        kwargs = {}\n",
    "    pad_left=20\n",
    "    if pitch_type == 'metricasports':\n",
    "        pad_left = pad_left / 100\n",
    "    if type(pitch_type) != str:\n",
    "        pad_left = pad_left / 10\n",
    "    pitch = Pitch(pitch_type=pitch_type, label=True, axis=True, pad_left=pad_left, **kwargs)\n",
    "    fig, ax = pitch.draw()"
   ]
  },
  {
   "cell_type": "markdown",
   "metadata": {},
   "source": [
    "# Left negative pad"
   ]
  },
  {
   "cell_type": "code",
   "execution_count": null,
   "metadata": {},
   "outputs": [],
   "source": [
    "for pitch_type in valid:\n",
    "    if pitch_type in size_varies:\n",
    "        kwargs = {'pitch_length': 105, 'pitch_width': 68}\n",
    "    else:\n",
    "        kwargs = {}\n",
    "    pad_left=-20\n",
    "    if pitch_type == 'metricasports':\n",
    "        pad_left = pad_left / 100\n",
    "    if type(pitch_type) != str:\n",
    "        pad_left = pad_left / 10\n",
    "    pitch = Pitch(pitch_type=pitch_type, label=True, axis=True, pad_left=pad_left, **kwargs)\n",
    "    fig, ax = pitch.draw()"
   ]
  },
  {
   "cell_type": "markdown",
   "metadata": {},
   "source": [
    "# Right positive pad"
   ]
  },
  {
   "cell_type": "code",
   "execution_count": null,
   "metadata": {},
   "outputs": [],
   "source": [
    "for pitch_type in valid:\n",
    "    if pitch_type in size_varies:\n",
    "        kwargs = {'pitch_length': 105, 'pitch_width': 68}\n",
    "    else:\n",
    "        kwargs = {}\n",
    "    pad_right=20\n",
    "    if pitch_type == 'metricasports':\n",
    "        pad_right = pad_right / 100\n",
    "    if type(pitch_type) != str:\n",
    "        pad_right = pad_right / 10\n",
    "    pitch = Pitch(pitch_type=pitch_type, label=True, axis=True, pad_right=pad_right, **kwargs)\n",
    "    fig, ax = pitch.draw()"
   ]
  },
  {
   "cell_type": "markdown",
   "metadata": {},
   "source": [
    "# Right negative pad"
   ]
  },
  {
   "cell_type": "code",
   "execution_count": null,
   "metadata": {},
   "outputs": [],
   "source": [
    "for pitch_type in valid:\n",
    "    if pitch_type in size_varies:\n",
    "        kwargs = {'pitch_length': 105, 'pitch_width': 68}\n",
    "    else:\n",
    "        kwargs = {}\n",
    "    pad_right=-20\n",
    "    if pitch_type == 'metricasports':\n",
    "        pad_right = pad_right / 100\n",
    "    if type(pitch_type) != str:\n",
    "        pad_right = pad_right / 10\n",
    "    pitch = Pitch(pitch_type=pitch_type, label=True, axis=True, pad_right=pad_right, **kwargs)\n",
    "    fig, ax = pitch.draw()"
   ]
  },
  {
   "cell_type": "markdown",
   "metadata": {},
   "source": [
    "# Vertical"
   ]
  },
  {
   "cell_type": "markdown",
   "metadata": {},
   "source": [
    "# Top positive pad"
   ]
  },
  {
   "cell_type": "code",
   "execution_count": null,
   "metadata": {},
   "outputs": [],
   "source": [
    "for pitch_type in valid:\n",
    "    if pitch_type in size_varies:\n",
    "        kwargs = {'pitch_length': 105, 'pitch_width': 68}\n",
    "    else:\n",
    "        kwargs = {}\n",
    "    pad_top=20\n",
    "    if pitch_type == 'metricasports':\n",
    "        pad_top = pad_top / 100\n",
    "    if type(pitch_type) != str:\n",
    "        pad_top = pad_top / 10\n",
    "    pitch = VerticalPitch(pitch_type=pitch_type, label=True, axis=True, pad_top=pad_top, **kwargs)\n",
    "    fig, ax = pitch.draw()"
   ]
  },
  {
   "cell_type": "markdown",
   "metadata": {},
   "source": [
    "# Top negative pad"
   ]
  },
  {
   "cell_type": "code",
   "execution_count": null,
   "metadata": {},
   "outputs": [],
   "source": [
    "for pitch_type in valid:\n",
    "    if pitch_type in size_varies:\n",
    "        kwargs = {'pitch_length': 105, 'pitch_width': 68}\n",
    "    else:\n",
    "        kwargs = {}\n",
    "    pad_top=-20\n",
    "    if pitch_type == 'metricasports':\n",
    "        pad_top = pad_top / 100\n",
    "    if type(pitch_type) != str:\n",
    "        pad_top = pad_top / 10\n",
    "    pitch = VerticalPitch(pitch_type=pitch_type, label=True, axis=True, pad_top=pad_top, **kwargs)\n",
    "    fig, ax = pitch.draw()"
   ]
  },
  {
   "cell_type": "markdown",
   "metadata": {},
   "source": [
    "# Bottom positive pad"
   ]
  },
  {
   "cell_type": "code",
   "execution_count": null,
   "metadata": {},
   "outputs": [],
   "source": [
    "for pitch_type in valid:\n",
    "    if pitch_type in size_varies:\n",
    "        kwargs = {'pitch_length': 105, 'pitch_width': 68}\n",
    "    else:\n",
    "        kwargs = {}\n",
    "    pad_bottom=20\n",
    "    if pitch_type == 'metricasports':\n",
    "        pad_bottom = pad_bottom / 100\n",
    "    if type(pitch_type) != str:\n",
    "        pad_bottom = pad_bottom / 10\n",
    "    pitch = VerticalPitch(pitch_type=pitch_type, label=True, axis=True, pad_bottom=pad_bottom, **kwargs)\n",
    "    fig, ax = pitch.draw()"
   ]
  },
  {
   "cell_type": "markdown",
   "metadata": {},
   "source": [
    "# Bottom negative pad"
   ]
  },
  {
   "cell_type": "code",
   "execution_count": null,
   "metadata": {},
   "outputs": [],
   "source": [
    "for pitch_type in valid:\n",
    "    if pitch_type in size_varies:\n",
    "        kwargs = {'pitch_length': 105, 'pitch_width': 68}\n",
    "    else:\n",
    "        kwargs = {}\n",
    "    pad_bottom=-20\n",
    "    if pitch_type == 'metricasports':\n",
    "        pad_bottom = pad_bottom / 100\n",
    "    if type(pitch_type) != str:\n",
    "        pad_bottom = pad_bottom / 10\n",
    "    pitch = VerticalPitch(pitch_type=pitch_type, label=True, axis=True, pad_bottom=pad_bottom, **kwargs)\n",
    "    fig, ax = pitch.draw()"
   ]
  },
  {
   "cell_type": "markdown",
   "metadata": {},
   "source": [
    "# Left positive pad"
   ]
  },
  {
   "cell_type": "code",
   "execution_count": null,
   "metadata": {},
   "outputs": [],
   "source": [
    "for pitch_type in valid:\n",
    "    if pitch_type in size_varies:\n",
    "        kwargs = {'pitch_length': 105, 'pitch_width': 68}\n",
    "    else:\n",
    "        kwargs = {}\n",
    "    pad_left=20\n",
    "    if pitch_type == 'metricasports':\n",
    "        pad_left = pad_left / 100\n",
    "    if type(pitch_type) != str:\n",
    "        pad_left = pad_left / 10\n",
    "    pitch = VerticalPitch(pitch_type=pitch_type, label=True, axis=True, pad_left=pad_left, **kwargs)\n",
    "    fig, ax = pitch.draw()"
   ]
  },
  {
   "cell_type": "markdown",
   "metadata": {},
   "source": [
    "# Left negative pad"
   ]
  },
  {
   "cell_type": "code",
   "execution_count": null,
   "metadata": {},
   "outputs": [],
   "source": [
    "for pitch_type in valid:\n",
    "    if pitch_type in size_varies:\n",
    "        kwargs = {'pitch_length': 105, 'pitch_width': 68}\n",
    "    else:\n",
    "        kwargs = {}\n",
    "    pad_left=-20\n",
    "    if pitch_type == 'metricasports':\n",
    "        pad_left = pad_left / 100\n",
    "    if type(pitch_type) != str:\n",
    "        pad_left = pad_left / 10\n",
    "    pitch = VerticalPitch(pitch_type=pitch_type, label=True, axis=True, pad_left=pad_left, **kwargs)\n",
    "    fig, ax = pitch.draw()"
   ]
  },
  {
   "cell_type": "markdown",
   "metadata": {},
   "source": [
    "# Right positive pad"
   ]
  },
  {
   "cell_type": "code",
   "execution_count": null,
   "metadata": {},
   "outputs": [],
   "source": [
    "for pitch_type in valid:\n",
    "    if pitch_type in size_varies:\n",
    "        kwargs = {'pitch_length': 105, 'pitch_width': 68}\n",
    "    else:\n",
    "        kwargs = {}\n",
    "    pad_right=20\n",
    "    if pitch_type == 'metricasports':\n",
    "        pad_right = pad_right / 100\n",
    "    if type(pitch_type) != str:\n",
    "        pad_right = pad_right / 10\n",
    "    pitch = VerticalPitch(pitch_type=pitch_type, label=True, axis=True, pad_right=pad_right, **kwargs)\n",
    "    fig, ax = pitch.draw()"
   ]
  },
  {
   "cell_type": "markdown",
   "metadata": {},
   "source": [
    "# Right negative pad"
   ]
  },
  {
   "cell_type": "code",
   "execution_count": null,
   "metadata": {},
   "outputs": [],
   "source": [
    "for pitch_type in valid:\n",
    "    if pitch_type in size_varies:\n",
    "        kwargs = {'pitch_length': 105, 'pitch_width': 68}\n",
    "    else:\n",
    "        kwargs = {}\n",
    "    pad_right=-20\n",
    "    if pitch_type == 'metricasports':\n",
    "        pad_right = pad_right / 100\n",
    "    if type(pitch_type) != str:\n",
    "        pad_right = pad_right / 10\n",
    "    pitch = VerticalPitch(pitch_type=pitch_type, label=True, axis=True, pad_right=pad_right, **kwargs)\n",
    "    fig, ax = pitch.draw()"
   ]
  }
 ],
 "metadata": {
  "kernelspec": {
   "display_name": "Python 3 (ipykernel)",
   "language": "python",
   "name": "python3"
  },
  "language_info": {
   "codemirror_mode": {
    "name": "ipython",
    "version": 3
   },
   "file_extension": ".py",
   "mimetype": "text/x-python",
   "name": "python",
   "nbconvert_exporter": "python",
   "pygments_lexer": "ipython3",
   "version": "3.11.9"
  }
 },
 "nbformat": 4,
 "nbformat_minor": 4
}
