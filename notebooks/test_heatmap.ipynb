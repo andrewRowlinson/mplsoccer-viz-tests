{
 "cells": [
  {
   "cell_type": "code",
   "execution_count": null,
   "metadata": {},
   "outputs": [],
   "source": [
    "from mplsoccer import Pitch, VerticalPitch\n",
    "from mplsoccer.dimensions import valid, size_varies, center_scale_dims\n",
    "import matplotlib.pyplot as plt\n",
    "import numpy as np\n",
    "import random\n",
    "np.random.seed(42)"
   ]
  },
  {
   "cell_type": "code",
   "execution_count": null,
   "metadata": {},
   "outputs": [],
   "source": [
    "dim = center_scale_dims(pitch_width=68, pitch_length=105,\n",
    "                        width=5, length=100, invert_y=False)\n",
    "valid.extend([dim])"
   ]
  },
  {
   "cell_type": "markdown",
   "metadata": {},
   "source": [
    "# Test five points are same in both orientations"
   ]
  },
  {
   "cell_type": "code",
   "execution_count": null,
   "metadata": {},
   "outputs": [],
   "source": [
    "for pitch_type in valid:\n",
    "    if pitch_type in size_varies:\n",
    "        kwargs = {'pitch_length': 105, 'pitch_width': 68}\n",
    "    else:\n",
    "        kwargs = {}\n",
    "    pitch = Pitch(pitch_type=pitch_type, line_zorder=2, **kwargs)\n",
    "    pitch_vertical = VerticalPitch(pitch_type=pitch_type, line_zorder=2, **kwargs)\n",
    "    fig, ax = plt.subplots(ncols=2, figsize=(12, 7))\n",
    "    if type(pitch_type) == str:\n",
    "        fig.suptitle(pitch_type)\n",
    "    else:\n",
    "        fig.suptitle(type(pitch_type).__name__)        \n",
    "    \n",
    "    x = np.random.uniform(low=pitch.dim.pitch_extent[0], high=pitch.dim.pitch_extent[1], size=5)\n",
    "    y = np.random.uniform(low=pitch.dim.pitch_extent[2], high=pitch.dim.pitch_extent[3], size=5)\n",
    "    \n",
    "    pitch.draw(ax[0])\n",
    "    pitch.scatter(x, y, ax=ax[0], color='red', zorder=3)\n",
    "    stats = pitch.bin_statistic(x, y)\n",
    "    stats['statistic'][stats['statistic'] == 0] = np.nan\n",
    "    hm = pitch.heatmap(stats, ax=ax[0])\n",
    "    txt = pitch.label_heatmap(stats, color='white', ax=ax[0])\n",
    "    \n",
    "    pitch_vertical.draw(ax[1])\n",
    "    pitch_vertical.scatter(x, y, ax=ax[1], color='red', zorder=3)\n",
    "    stats_vertical = pitch_vertical.bin_statistic(x, y)\n",
    "    stats_vertical['statistic'][stats_vertical['statistic'] == 0] = np.nan\n",
    "    hm_vertical = pitch_vertical.heatmap(stats_vertical, ax=ax[1])\n",
    "    txt_vertical = pitch_vertical.label_heatmap(stats, color='white', ax=ax[1])"
   ]
  },
  {
   "cell_type": "markdown",
   "metadata": {},
   "source": [
    "# Test five points are same in both orientations - positional"
   ]
  },
  {
   "cell_type": "code",
   "execution_count": null,
   "metadata": {},
   "outputs": [],
   "source": [
    "for pitch_type in valid:\n",
    "    if pitch_type in size_varies:\n",
    "        kwargs = {'pitch_length': 105, 'pitch_width': 68}\n",
    "    else:\n",
    "        kwargs = {}\n",
    "    pitch = Pitch(pitch_type=pitch_type, line_zorder=2, **kwargs)\n",
    "    pitch_vertical = VerticalPitch(pitch_type=pitch_type, line_zorder=2, **kwargs)\n",
    "    fig, ax = plt.subplots(ncols=2, figsize=(12, 7))\n",
    "    if type(pitch_type) == str:\n",
    "        fig.suptitle(pitch_type)\n",
    "    else:\n",
    "        fig.suptitle(type(pitch_type).__name__)\n",
    "    \n",
    "    x = np.random.uniform(low=pitch.dim.pitch_extent[0], high=pitch.dim.pitch_extent[1], size=5)\n",
    "    y = np.random.uniform(low=pitch.dim.pitch_extent[2], high=pitch.dim.pitch_extent[3], size=5)\n",
    "    \n",
    "    pitch.draw(ax[0])\n",
    "    pitch.scatter(x, y, ax=ax[0], color='red', zorder=3)\n",
    "    stats = pitch.bin_statistic_positional(x, y)\n",
    "    hm = pitch.heatmap_positional(stats, ax=ax[0])\n",
    "    txt = pitch.label_heatmap(stats, color='white', ax=ax[0])\n",
    "    \n",
    "    pitch_vertical.draw(ax[1])\n",
    "    pitch_vertical.scatter(x, y, ax=ax[1], color='red', zorder=3)\n",
    "    stats_vertical = pitch_vertical.bin_statistic_positional(x, y)\n",
    "    hm_vertical = pitch_vertical.heatmap_positional(stats_vertical, ax=ax[1])\n",
    "    txt_vertical = pitch_vertical.label_heatmap(stats, color='white', ax=ax[1])"
   ]
  },
  {
   "cell_type": "markdown",
   "metadata": {},
   "source": [
    "# Test edges - positional x"
   ]
  },
  {
   "cell_type": "code",
   "execution_count": null,
   "metadata": {},
   "outputs": [],
   "source": [
    "for pitch_type in valid:\n",
    "    if pitch_type in size_varies:\n",
    "        kwargs = {'pitch_length': 105, 'pitch_width': 68}\n",
    "    else:\n",
    "        kwargs = {}\n",
    "    pitch = Pitch(pitch_type=pitch_type, line_zorder=2, pitch_color='None', axis=True, label=True, **kwargs)\n",
    "    pitch_vertical = VerticalPitch(pitch_type=pitch_type, line_zorder=2, pitch_color='None', axis=True, label=True, **kwargs)\n",
    "    fig, ax = plt.subplots(ncols=2, figsize=(12, 7))\n",
    "    if type(pitch_type) == str:\n",
    "        fig.suptitle(pitch_type)\n",
    "    else:\n",
    "        fig.suptitle(type(pitch_type).__name__)  \n",
    "    \n",
    "    x = pitch.dim.positional_x\n",
    "    y = np.random.uniform(low=pitch.dim.pitch_extent[2], high=pitch.dim.pitch_extent[3], size=x.size)\n",
    "    \n",
    "    pitch.draw(ax[0])\n",
    "    pitch.scatter(x, y, ax=ax[0], color='red', zorder=3)\n",
    "    stats = pitch.bin_statistic_positional(x, y)\n",
    "    hm = pitch.heatmap_positional(stats, ax=ax[0], edgecolors='yellow')\n",
    "    txt = pitch.label_heatmap(stats, color='white', ax=ax[0])\n",
    "    \n",
    "    pitch_vertical.draw(ax[1])\n",
    "    pitch_vertical.scatter(x, y, ax=ax[1], color='red', zorder=3)\n",
    "    stats_vertical = pitch_vertical.bin_statistic_positional(x, y)\n",
    "    hm_vertical = pitch_vertical.heatmap_positional(stats_vertical, ax=ax[1], edgecolors='yellow')\n",
    "    txt_vertical = pitch_vertical.label_heatmap(stats_vertical, color='white', ax=ax[1])"
   ]
  },
  {
   "cell_type": "markdown",
   "metadata": {},
   "source": [
    "# Test edges - positional y"
   ]
  },
  {
   "cell_type": "code",
   "execution_count": null,
   "metadata": {},
   "outputs": [],
   "source": [
    "for pitch_type in valid:\n",
    "    if pitch_type in size_varies:\n",
    "        kwargs = {'pitch_length': 105, 'pitch_width': 68}\n",
    "    else:\n",
    "        kwargs = {}\n",
    "    pitch = Pitch(pitch_type=pitch_type, line_zorder=2, pitch_color='None', axis=True, label=True, **kwargs)\n",
    "    pitch_vertical = VerticalPitch(pitch_type=pitch_type, line_zorder=2, pitch_color='None', axis=True, label=True, **kwargs)\n",
    "    fig, ax = plt.subplots(ncols=2, figsize=(12, 7))\n",
    "    if type(pitch_type) == str:\n",
    "        fig.suptitle(pitch_type)\n",
    "    else:\n",
    "        fig.suptitle(type(pitch_type).__name__)  \n",
    "    \n",
    "    y = pitch.dim.positional_y\n",
    "    x = np.random.uniform(low=pitch.dim.pitch_extent[0], high=pitch.dim.pitch_extent[1], size=y.size)\n",
    "\n",
    "    pitch.draw(ax[0])\n",
    "    pitch.scatter(x, y, ax=ax[0], color='red', zorder=3)\n",
    "    stats = pitch.bin_statistic_positional(x, y)\n",
    "    hm = pitch.heatmap_positional(stats, ax=ax[0], edgecolors='yellow')\n",
    "    txt = pitch.label_heatmap(stats, color='white', ax=ax[0])\n",
    "    \n",
    "    pitch_vertical.draw(ax[1])\n",
    "    pitch_vertical.scatter(x, y, ax=ax[1], color='red', zorder=3)\n",
    "    stats_vertical = pitch_vertical.bin_statistic_positional(x, y)\n",
    "    hm_vertical = pitch_vertical.heatmap_positional(stats_vertical, ax=ax[1], edgecolors='yellow')\n",
    "    txt_vertical = pitch_vertical.label_heatmap(stats_vertical, color='white', ax=ax[1])"
   ]
  }
 ],
 "metadata": {
  "kernelspec": {
   "display_name": "Python 3 (ipykernel)",
   "language": "python",
   "name": "python3"
  },
  "language_info": {
   "codemirror_mode": {
    "name": "ipython",
    "version": 3
   },
   "file_extension": ".py",
   "mimetype": "text/x-python",
   "name": "python",
   "nbconvert_exporter": "python",
   "pygments_lexer": "ipython3",
   "version": "3.11.9"
  }
 },
 "nbformat": 4,
 "nbformat_minor": 4
}
