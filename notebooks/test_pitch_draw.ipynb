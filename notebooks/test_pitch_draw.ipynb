{
 "cells": [
  {
   "cell_type": "code",
   "execution_count": null,
   "metadata": {},
   "outputs": [],
   "source": [
    "from mplsoccer import Pitch, VerticalPitch\n",
    "from mplsoccer.dimensions import valid, size_varies, center_scale_dims\n",
    "import matplotlib.pyplot as plt\n",
    "import numpy as np\n",
    "import random\n",
    "np.random.seed(42)\n",
    "random.seed(42)"
   ]
  },
  {
   "cell_type": "code",
   "execution_count": null,
   "metadata": {},
   "outputs": [],
   "source": [
    "dim = center_scale_dims(pitch_width=68, pitch_length=105,\n",
    "                        width=5, length=100, invert_y=False)\n",
    "valid.extend([dim])"
   ]
  },
  {
   "cell_type": "markdown",
   "metadata": {},
   "source": [
    "# Full pitches"
   ]
  },
  {
   "cell_type": "code",
   "execution_count": null,
   "metadata": {},
   "outputs": [],
   "source": [
    "for pitch_type in valid:\n",
    "    if pitch_type in size_varies:\n",
    "        kwargs = {'pitch_length': 105, 'pitch_width': 68}\n",
    "    else:\n",
    "        kwargs = {}\n",
    "    pitch = Pitch(pitch_type=pitch_type, label=True, axis=True, **kwargs)\n",
    "    pitch_vertical = VerticalPitch(pitch_type=pitch_type, label=True, axis=True, **kwargs)\n",
    "    fig, ax = plt.subplots(ncols=2, figsize=(12, 7))\n",
    "    if type(pitch_type) == str:\n",
    "        fig.suptitle(pitch_type)\n",
    "    else:\n",
    "        fig.suptitle(type(pitch_type).__name__)\n",
    "    pitch.draw(ax[0])\n",
    "    pitch_vertical.draw(ax[1])"
   ]
  },
  {
   "cell_type": "markdown",
   "metadata": {},
   "source": [
    "# Half pitches"
   ]
  },
  {
   "cell_type": "code",
   "execution_count": null,
   "metadata": {},
   "outputs": [],
   "source": [
    "for pitch_type in valid:\n",
    "    if pitch_type in size_varies:\n",
    "        kwargs = {'pitch_length': 105, 'pitch_width': 68}\n",
    "    else:\n",
    "        kwargs = {}\n",
    "    pitch = Pitch(pitch_type=pitch_type, label=True, axis=True, half=True, **kwargs)\n",
    "    pitch_vertical = VerticalPitch(pitch_type=pitch_type, label=True, axis=True, half=True, **kwargs)\n",
    "    fig, ax = plt.subplots(ncols=2, figsize=(12, 7))\n",
    "    if type(pitch_type) == str:\n",
    "        fig.suptitle(pitch_type)\n",
    "    else:\n",
    "        fig.suptitle(type(pitch_type).__name__)\n",
    "    pitch.draw(ax[0])\n",
    "    pitch_vertical.draw(ax[1])"
   ]
  },
  {
   "cell_type": "markdown",
   "metadata": {},
   "source": [
    "# Random padding/ Half"
   ]
  },
  {
   "cell_type": "code",
   "execution_count": null,
   "metadata": {},
   "outputs": [],
   "source": [
    "for pitch_type in valid:\n",
    "    if pitch_type in size_varies:\n",
    "        kwargs = {'pitch_length': 105, 'pitch_width': 68}\n",
    "    else:\n",
    "        kwargs = {}\n",
    "    padding = np.random.uniform(low=-20, high=20, size=4)\n",
    "    if pitch_type == 'metricasports':\n",
    "        padding = padding / 100\n",
    "    if type(pitch_type) != str:\n",
    "        padding = padding / 10\n",
    "    pad_left, pad_right, pad_bottom, pad_top = padding.round(1)\n",
    "    half = random.choice([True, False])\n",
    "    stripe = random.choice([True, False])\n",
    "    pitch_color = random.choice(['#a4ed8e', 'grass'])\n",
    "    pitch = Pitch(pitch_type=pitch_type, label=True, axis=True,\n",
    "                  half=half, stripe=stripe, pitch_color=pitch_color,\n",
    "                  pad_left=pad_left, pad_right=pad_right, pad_bottom=pad_bottom, pad_top=pad_top,\n",
    "                  **kwargs)\n",
    "    pitch_vertical = VerticalPitch(pitch_type=pitch_type, label=True, axis=True,\n",
    "                                   half=half, stripe=stripe, pitch_color=pitch_color,\n",
    "                                   # swap padding when vertical\n",
    "                                   pad_bottom=pad_left, pad_top=pad_right, pad_left=pad_top, pad_right=pad_bottom,\n",
    "                                   **kwargs)\n",
    "    fig, ax = plt.subplots(ncols=2, figsize=(12, 7))\n",
    "    if type(pitch_type) != str:\n",
    "        pitch_type = type(pitch_type).__name__\n",
    "    fig.suptitle((f'{pitch_type}\\n'\n",
    "                  f'half={half}, stripe={stripe}\\n, pitch_color={pitch_color}'\n",
    "                  f'pad_left={pad_left}, pad_right={pad_right}, pad_bottom={pad_bottom}, pad_top={pad_top}'))\n",
    "    pitch.draw(ax[0])\n",
    "    pitch_vertical.draw(ax[1])"
   ]
  }
 ],
 "metadata": {
  "kernelspec": {
   "display_name": "Python 3 (ipykernel)",
   "language": "python",
   "name": "python3"
  },
  "language_info": {
   "codemirror_mode": {
    "name": "ipython",
    "version": 3
   },
   "file_extension": ".py",
   "mimetype": "text/x-python",
   "name": "python",
   "nbconvert_exporter": "python",
   "pygments_lexer": "ipython3",
   "version": "3.11.9"
  }
 },
 "nbformat": 4,
 "nbformat_minor": 4
}
