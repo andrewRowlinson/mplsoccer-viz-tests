{
 "cells": [
  {
   "cell_type": "code",
   "execution_count": null,
   "metadata": {},
   "outputs": [],
   "source": [
    "from mplsoccer import Pitch, VerticalPitch\n",
    "from mplsoccer.dimensions import valid, size_varies, center_scale_dims\n",
    "import numpy as np\n",
    "import matplotlib.pyplot as plt"
   ]
  },
  {
   "cell_type": "code",
   "execution_count": null,
   "metadata": {},
   "outputs": [],
   "source": [
    "dim = center_scale_dims(pitch_width=68, pitch_length=105,\n",
    "                        width=5, length=100, invert_y=False)\n",
    "valid.extend([dim])"
   ]
  },
  {
   "cell_type": "markdown",
   "metadata": {},
   "source": [
    "# suplots - horizontal"
   ]
  },
  {
   "cell_type": "code",
   "execution_count": null,
   "metadata": {},
   "outputs": [],
   "source": [
    "for pitch_type in valid:\n",
    "    if pitch_type in size_varies:\n",
    "        kwargs = {'pitch_length': 105, 'pitch_width': 68}\n",
    "    else:\n",
    "        kwargs = {}\n",
    "    nrows, ncols = np.random.randint(1, 5, size=2)\n",
    "    pitch = Pitch(pitch_type=pitch_type, **kwargs)\n",
    "    fig, ax = pitch.draw(nrows=nrows, ncols=ncols)\n",
    "    if type(pitch_type) == str:\n",
    "        fig.suptitle(f'{pitch_type} nrows={nrows}, ncols={ncols}')\n",
    "    else:\n",
    "        fig.suptitle(f'{type(pitch_type).__name__} nrows={nrows}, ncols={ncols}')"
   ]
  },
  {
   "cell_type": "markdown",
   "metadata": {},
   "source": [
    "# suplots Vertical"
   ]
  },
  {
   "cell_type": "code",
   "execution_count": null,
   "metadata": {},
   "outputs": [],
   "source": [
    "for pitch_type in valid:\n",
    "    if pitch_type in size_varies:\n",
    "        kwargs = {'pitch_length': 105, 'pitch_width': 68}\n",
    "    else:\n",
    "        kwargs = {}\n",
    "    nrows, ncols = np.random.randint(1, 5, size=2)\n",
    "    pitch = VerticalPitch(pitch_type=pitch_type, **kwargs)\n",
    "    fig, ax = pitch.draw(nrows=nrows, ncols=ncols)\n",
    "    if type(pitch_type) == str:\n",
    "        fig.suptitle(f'{pitch_type} nrows={nrows}, ncols={ncols}')\n",
    "    else:\n",
    "        fig.suptitle(f'{type(pitch_type).__name__} nrows={nrows}, ncols={ncols}')"
   ]
  },
  {
   "cell_type": "markdown",
   "metadata": {},
   "source": [
    "# Grid horizontal (3*4)"
   ]
  },
  {
   "cell_type": "code",
   "execution_count": null,
   "metadata": {},
   "outputs": [],
   "source": [
    "for pitch_type in valid:\n",
    "    if pitch_type in size_varies:\n",
    "        kwargs = {'pitch_length': 105, 'pitch_width': 68}\n",
    "    else:\n",
    "        kwargs = {}\n",
    "    pitch = Pitch(pitch_type=pitch_type, **kwargs)\n",
    "    nrows, ncols = 3, 4\n",
    "    fig, ax  = pitch.grid(nrows=nrows, ncols=ncols, figheight=9)\n",
    "    if type(pitch_type) == str:\n",
    "        ax['title'].text(0.5, 0.5, f'{pitch_type} nrows={nrows}, ncols={ncols}', ha='center', va='center')\n",
    "    else:\n",
    "        ax['title'].text(0.5, 0.5, f'{type(pitch_type).__name__} nrows={nrows}, ncols={ncols}', ha='center', va='center')\n",
    "    pitch.scatter(pitch.dim.center_length, pitch.dim.center_width, marker='x', s=2000, ax=ax['pitch'][2, 1])"
   ]
  },
  {
   "cell_type": "markdown",
   "metadata": {},
   "source": [
    "# Subplots horizontal (3*4)"
   ]
  },
  {
   "cell_type": "code",
   "execution_count": null,
   "metadata": {},
   "outputs": [],
   "source": [
    "for pitch_type in valid:\n",
    "    if pitch_type in size_varies:\n",
    "        kwargs = {'pitch_length': 105, 'pitch_width': 68}\n",
    "    else:\n",
    "        kwargs = {}\n",
    "    nrows, ncols = 3, 4\n",
    "    pitch = Pitch(pitch_type=pitch_type, **kwargs)\n",
    "    fig, ax = pitch.draw(nrows=nrows, ncols=ncols, figsize=(8, 4.5))\n",
    "    if type(pitch_type) == str:\n",
    "        fig.suptitle(f'{pitch_type} nrows={nrows}, ncols={ncols}')\n",
    "    else:\n",
    "        fig.suptitle(f'{type(pitch_type).__name__} nrows={nrows}, ncols={ncols}')\n",
    "    pitch.scatter(pitch.dim.center_length, pitch.dim.center_width, marker='x', s=2000, ax=ax[2, 1])"
   ]
  },
  {
   "cell_type": "markdown",
   "metadata": {},
   "source": [
    "# grid vertical (4 * 3)"
   ]
  },
  {
   "cell_type": "code",
   "execution_count": null,
   "metadata": {},
   "outputs": [],
   "source": [
    "for pitch_type in valid:\n",
    "    if pitch_type in size_varies:\n",
    "        kwargs = {'pitch_length': 105, 'pitch_width': 68}\n",
    "    else:\n",
    "        kwargs = {}\n",
    "    pitch = VerticalPitch(pitch_type=pitch_type, **kwargs)\n",
    "    nrows, ncols = 4, 3\n",
    "    fig, ax = pitch.grid(nrows=nrows, ncols=ncols, figheight=9)\n",
    "    if type(pitch_type) == str:\n",
    "        ax['title'].text(0.5, 0.5, f'{pitch_type} nrows={nrows}, ncols={ncols}', ha='center', va='center')\n",
    "    else:\n",
    "        ax['title'].text(0.5, 0.5, f'{type(pitch_type).__name__} nrows={nrows}, ncols={ncols}', ha='center', va='center')\n",
    "    pitch.scatter(pitch.dim.center_length, pitch.dim.center_width, marker='x', s=2000, ax=ax['pitch'][2, 1])"
   ]
  },
  {
   "cell_type": "markdown",
   "metadata": {},
   "source": [
    "# subplots vertical (4 * 3)"
   ]
  },
  {
   "cell_type": "code",
   "execution_count": null,
   "metadata": {},
   "outputs": [],
   "source": [
    "for pitch_type in valid:\n",
    "    if pitch_type in size_varies:\n",
    "        kwargs = {'pitch_length': 105, 'pitch_width': 68}\n",
    "    else:\n",
    "        kwargs = {}\n",
    "    nrows, ncols = 4, 3\n",
    "    pitch = VerticalPitch(pitch_type=pitch_type, **kwargs)\n",
    "    fig, ax = pitch.draw(nrows=nrows, ncols=ncols, figsize=(4.5, 8))\n",
    "    if type(pitch_type) == str:\n",
    "        fig.suptitle(f'{pitch_type} nrows={nrows}, ncols={ncols}')\n",
    "    else:\n",
    "        fig.suptitle(f'{type(pitch_type).__name__} nrows={nrows}, ncols={ncols}')\n",
    "    pitch.scatter(pitch.dim.center_length, pitch.dim.center_width, marker='x', s=2000, ax=ax[2, 1])"
   ]
  }
 ],
 "metadata": {
  "kernelspec": {
   "display_name": "Python 3 (ipykernel)",
   "language": "python",
   "name": "python3"
  },
  "language_info": {
   "codemirror_mode": {
    "name": "ipython",
    "version": 3
   },
   "file_extension": ".py",
   "mimetype": "text/x-python",
   "name": "python",
   "nbconvert_exporter": "python",
   "pygments_lexer": "ipython3",
   "version": "3.11.9"
  }
 },
 "nbformat": 4,
 "nbformat_minor": 4
}
