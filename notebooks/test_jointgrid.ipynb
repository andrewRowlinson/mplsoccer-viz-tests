{
 "cells": [
  {
   "cell_type": "code",
   "execution_count": null,
   "metadata": {},
   "outputs": [],
   "source": [
    "from mplsoccer import Pitch, VerticalPitch\n",
    "from mplsoccer.dimensions import valid, size_varies, center_scale_dims\n",
    "import seaborn as sns\n",
    "import matplotlib.pyplot as plt\n",
    "import numpy as np\n",
    "import random\n",
    "np.random.seed(42)"
   ]
  },
  {
   "cell_type": "code",
   "execution_count": null,
   "metadata": {},
   "outputs": [],
   "source": [
    "dim = center_scale_dims(pitch_width=68, pitch_length=105,\n",
    "                        width=5, length=100, invert_y=False)\n",
    "valid.extend([dim])"
   ]
  },
  {
   "cell_type": "code",
   "execution_count": null,
   "metadata": {},
   "outputs": [],
   "source": [
    "for pitch_type in valid:\n",
    "    if pitch_type in size_varies:\n",
    "        kwargs = {'pitch_length': 105, 'pitch_width': 68}\n",
    "    else:\n",
    "        kwargs = {}\n",
    "    pitch = Pitch(pitch_type=pitch_type, line_zorder=2, **kwargs)\n",
    "\n",
    "    x = np.random.uniform(low=pitch.dim.pitch_extent[0], high=pitch.dim.pitch_extent[1], size=300)\n",
    "    y = np.random.uniform(low=pitch.dim.pitch_extent[2], high=pitch.dim.pitch_extent[3], size=300)\n",
    "    \n",
    "    fig, ax = pitch.jointgrid(ax_bottom=True, space=0.01, bottom=0.11, title_height=0.02)\n",
    "    pitch.hexbin(x, y, ax=ax['pitch'])\n",
    "    sns.kdeplot(y=y, fill=True, ax=ax['left'])\n",
    "    sns.kdeplot(y=y, fill=True, ax=ax['right'])\n",
    "    sns.kdeplot(x=x, fill=True, ax=ax['top'])\n",
    "    sns.kdeplot(x=x, fill=True, ax=ax['bottom'])\n",
    "    if type(pitch_type) == str:\n",
    "        ax['title'].text(0.5, 0.5, pitch_type, va='center', ha='center')\n",
    "    else:\n",
    "        ax['title'].text(0.5, 0.5, type(pitch_type).__name__, va='center', ha='center')"
   ]
  },
  {
   "cell_type": "code",
   "execution_count": null,
   "metadata": {},
   "outputs": [],
   "source": [
    "for pitch_type in valid:\n",
    "    if pitch_type in size_varies:\n",
    "        kwargs = {'pitch_length': 105, 'pitch_width': 68}\n",
    "    else:\n",
    "        kwargs = {}\n",
    "    pitch = VerticalPitch(pitch_type=pitch_type, line_zorder=2, **kwargs)\n",
    "\n",
    "    \n",
    "    x = np.random.uniform(low=pitch.dim.pitch_extent[0], high=pitch.dim.pitch_extent[1], size=300)\n",
    "    y = np.random.uniform(low=pitch.dim.pitch_extent[2], high=pitch.dim.pitch_extent[3], size=300)\n",
    "    \n",
    "    fig, ax = pitch.jointgrid(ax_bottom=True, space=0.01)\n",
    "    pitch.hexbin(x, y, ax=ax['pitch'])\n",
    "    sns.kdeplot(y=x, fill=True, ax=ax['left'])\n",
    "    sns.kdeplot(y=x, fill=True, ax=ax['right'])\n",
    "    sns.kdeplot(x=y, fill=True, ax=ax['bottom'])\n",
    "    sns.kdeplot(x=y, fill=True, ax=ax['top'])\n",
    "    if type(pitch_type) == str:\n",
    "        ax['title'].text(0.5, 0.5, pitch_type, va='center', ha='center')\n",
    "    else:\n",
    "        ax['title'].text(0.5, 0.5, type(pitch_type).__name__, va='center', ha='center')"
   ]
  }
 ],
 "metadata": {
  "kernelspec": {
   "display_name": "Python 3 (ipykernel)",
   "language": "python",
   "name": "python3"
  },
  "language_info": {
   "codemirror_mode": {
    "name": "ipython",
    "version": 3
   },
   "file_extension": ".py",
   "mimetype": "text/x-python",
   "name": "python",
   "nbconvert_exporter": "python",
   "pygments_lexer": "ipython3",
   "version": "3.11.9"
  }
 },
 "nbformat": 4,
 "nbformat_minor": 4
}
