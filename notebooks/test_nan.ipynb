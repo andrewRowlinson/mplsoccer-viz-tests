{
 "cells": [
  {
   "cell_type": "code",
   "execution_count": null,
   "metadata": {},
   "outputs": [],
   "source": [
    "from mplsoccer import Pitch, arrowhead_marker\n",
    "import numpy as np"
   ]
  },
  {
   "cell_type": "code",
   "execution_count": null,
   "metadata": {},
   "outputs": [],
   "source": [
    "pitch = Pitch()\n",
    "fig, ax = pitch.draw()\n",
    "pitch.plot([0, 3, 10, 20, 40, 60, 70, 80, 90, 100, 110, 120],\n",
    "           [80, 20, 20, 30, 10, 80, 30, 20, 0, 40, 4, 0], color='red', marker='o', ax=ax)\n",
    "pitch.plot([0, 3, 10, 20, 40, np.nan, 70, 80, 90, 100, 110, 120],\n",
    "           [80, 20, 20, 30, 10, 80, 30, 20, 0, 40, 4, 0], marker='x', markersize=50, ax=ax)"
   ]
  },
  {
   "cell_type": "code",
   "execution_count": null,
   "metadata": {},
   "outputs": [],
   "source": [
    "pitch = Pitch()\n",
    "fig, ax = pitch.draw()\n",
    "pitch.scatter([0, 3, 10, 20, 40, 60, 70, 80, 90, 100, 110, 120],\n",
    "              [80, 20, 20, 30, 10, 80, 30, 20, 0, 40, 4, 0], color='red', marker='o', ax=ax)\n",
    "pitch.scatter([0, 3, 10, 20, 40, np.nan, 70, 80, 90, 100, 110, 120],\n",
    "              [80, 20, 20, 30, 10, 80, 30, 20, 0, 40, 4, 0], marker='x', s=500, ax=ax)"
   ]
  },
  {
   "cell_type": "code",
   "execution_count": null,
   "metadata": {},
   "outputs": [],
   "source": [
    "pitch = Pitch()\n",
    "fig, ax = pitch.draw()\n",
    "pitch.scatter([0, 3, 10, 20, 40, 60, 70, 80, 90, 100, 110, 120],\n",
    "              [80, 20, 20, 30, 10, 80, 30, 20, 0, 40, 4, 0], marker='x', s=500, ax=ax)\n",
    "pitch.scatter([0, 3, 10, 20, 40, np.nan, 70, 80, 90, 100, 110, 120],\n",
    "              [80, 20, 20, 30, 10, 80, 30, 20, 0, 40, 4, 0], marker='football', s=500, ax=ax)"
   ]
  },
  {
   "cell_type": "code",
   "execution_count": null,
   "metadata": {},
   "outputs": [],
   "source": [
    "pitch = Pitch()\n",
    "fig, ax = pitch.draw()\n",
    "rotation_degrees = np.linspace(0, 360, num=12)\n",
    "pitch.scatter([0, 3, 10, 20, 40, 60, 70, 80, 90, 100, 110, 120],\n",
    "              [80, 20, 20, 30, 10, 80, 30, 20, 0, 40, 4, 0],\n",
    "              rotation_degrees=rotation_degrees,\n",
    "              color='red', marker=arrowhead_marker, s=500, ax=ax)\n",
    "rotation_degrees[[5, 6]] = np.nan\n",
    "pitch.scatter([0, 3, 10, 20, 40, 60, 70, 80, 90, 100, 110, 120],\n",
    "              [80, 20, 20, 30, 10, 80, 30, 20, 0, 40, 4, 0],\n",
    "              rotation_degrees=rotation_degrees,\n",
    "              color='blue', marker=arrowhead_marker, s=200, ax=ax)"
   ]
  },
  {
   "cell_type": "code",
   "execution_count": null,
   "metadata": {},
   "outputs": [],
   "source": [
    "x = np.random.uniform(0, 120, size=100)\n",
    "y = np.random.uniform(0, 80, size=100)\n",
    "mask = np.random.choice([True, False], size=100, p=[0.2, 0.8])\n",
    "x[mask] = np.nan\n",
    "y[mask] = np.nan\n",
    "\n",
    "pitch = Pitch()\n",
    "fig, axs = pitch.draw(ncols=2, figsize=(12, 8))\n",
    "pitch.kdeplot(x, y, ax=axs[0])\n",
    "pitch.kdeplot(x[~mask], y[~mask], ax=axs[1])"
   ]
  },
  {
   "cell_type": "code",
   "execution_count": null,
   "metadata": {},
   "outputs": [],
   "source": [
    "x = np.random.uniform(0, 120, size=100)\n",
    "y = np.random.uniform(0, 80, size=100)\n",
    "mask = np.random.choice([True, False], size=100, p=[0.2, 0.8])\n",
    "x[mask] = np.nan\n",
    "y[mask] = np.nan\n",
    "\n",
    "pitch = Pitch()\n",
    "fig, axs = pitch.draw(ncols=2, figsize=(12, 8))\n",
    "pitch.hexbin(x, y, ax=axs[0])\n",
    "pitch.hexbin(x[~mask], y[~mask], ax=axs[1])"
   ]
  },
  {
   "cell_type": "code",
   "execution_count": null,
   "metadata": {},
   "outputs": [],
   "source": [
    "x = np.random.uniform(0, 120, size=100)\n",
    "y = np.random.uniform(0, 80, size=100)\n",
    "mask = np.random.choice([True, False], size=100, p=[0.2, 0.8])\n",
    "x[mask] = np.nan\n",
    "y[mask] = np.nan\n",
    "\n",
    "pitch = Pitch(line_zorder=2)\n",
    "fig, axs = pitch.draw(ncols=2, figsize=(12, 8))\n",
    "bs_nan = pitch.bin_statistic(x, y)\n",
    "bs_no_nan = pitch.bin_statistic(x[~mask], y[~mask])\n",
    "print(bs_nan['statistic'].sum())\n",
    "print(bs_no_nan['statistic'].sum())\n",
    "pitch.heatmap(bs_nan, ax=axs[0])\n",
    "pitch.heatmap(bs_no_nan, ax=axs[1])\n",
    "pitch.label_heatmap(bs_nan, ax=axs[0])\n",
    "pitch.label_heatmap(bs_no_nan, ax=axs[1]);"
   ]
  },
  {
   "cell_type": "code",
   "execution_count": null,
   "metadata": {},
   "outputs": [],
   "source": [
    "x = np.random.uniform(0, 120, size=100)\n",
    "y = np.random.uniform(0, 80, size=100)\n",
    "values = np.random.uniform(0, 1, size=100)\n",
    "mask = np.random.choice([True, False], size=100, p=[0.2, 0.8])\n",
    "values[mask] = np.nan\n",
    "\n",
    "pitch = Pitch(line_zorder=2)\n",
    "fig, axs = pitch.draw(ncols=2, figsize=(12, 8))\n",
    "bs_nan = pitch.bin_statistic(x, y, values=values, statistic='mean')\n",
    "bs_no_nan = pitch.bin_statistic(x[~mask], y[~mask], values=values[~mask], statistic='mean')\n",
    "bs_nan['statistic'] = bs_nan['statistic'].round(2)\n",
    "bs_no_nan['statistic'] = bs_no_nan['statistic'].round(2)\n",
    "print(bs_nan['statistic'].sum())\n",
    "print(bs_no_nan['statistic'].sum())\n",
    "pitch.heatmap(bs_nan, ax=axs[0])\n",
    "pitch.heatmap(bs_no_nan, ax=axs[1])\n",
    "pitch.label_heatmap(bs_nan, ax=axs[0])\n",
    "pitch.label_heatmap(bs_no_nan, ax=axs[1])\n",
    "pitch.scatter(x[~mask], y[~mask], ax=axs[0], c='black', marker='x')"
   ]
  },
  {
   "cell_type": "code",
   "execution_count": null,
   "metadata": {},
   "outputs": [],
   "source": [
    "x = np.random.uniform(0, 120, size=100)\n",
    "y = np.random.uniform(0, 80, size=100)\n",
    "mask = np.random.choice([True, False], size=100, p=[0.2, 0.8])\n",
    "x[mask] = np.nan\n",
    "y[mask] = np.nan\n",
    "\n",
    "pitch = Pitch(line_zorder=2)\n",
    "fig, axs = pitch.draw(ncols=2, figsize=(12, 8))\n",
    "bs_nan = pitch.bin_statistic_positional(x, y)\n",
    "bs_no_nan = pitch.bin_statistic_positional(x[~mask], y[~mask])\n",
    "print(np.array([s['statistic'].sum() for s in bs_nan]).sum())\n",
    "print(np.array([s['statistic'].sum() for s in bs_no_nan]).sum())\n",
    "pitch.heatmap_positional(bs_nan, ax=axs[0])\n",
    "pitch.heatmap_positional(bs_no_nan, ax=axs[1])\n",
    "pitch.label_heatmap(bs_nan, ax=axs[0])\n",
    "pitch.label_heatmap(bs_no_nan, ax=axs[1]);"
   ]
  },
  {
   "cell_type": "code",
   "execution_count": null,
   "metadata": {},
   "outputs": [],
   "source": [
    "x = np.random.uniform(0, 120, size=100)\n",
    "y = np.random.uniform(0, 80, size=100)\n",
    "values = np.random.uniform(0, 1, size=100)\n",
    "mask = np.random.choice([True, False], size=100, p=[0.2, 0.8])\n",
    "values[mask] = np.nan\n",
    "\n",
    "pitch = Pitch(line_zorder=2)\n",
    "fig, axs = pitch.draw(ncols=2, figsize=(12, 8))\n",
    "bs_nan = pitch.bin_statistic_positional(x, y, values=values, statistic='mean')\n",
    "bs_no_nan = pitch.bin_statistic_positional(x[~mask], y[~mask], values=values[~mask], statistic='mean')\n",
    "print(np.array([np.nansum(s['statistic']) for s in bs_nan]).sum())\n",
    "print(np.array([np.nansum(s['statistic']) for s in bs_no_nan]).sum())\n",
    "pitch.heatmap_positional(bs_nan, ax=axs[0])\n",
    "pitch.heatmap_positional(bs_no_nan, ax=axs[1])\n",
    "for s in bs_nan:\n",
    "    s['statistic'] = s['statistic'].round(2)\n",
    "for s in bs_no_nan:\n",
    "    s['statistic'] = s['statistic'].round(2)\n",
    "pitch.label_heatmap(bs_nan, ax=axs[0])\n",
    "pitch.label_heatmap(bs_no_nan, ax=axs[1]);"
   ]
  },
  {
   "cell_type": "code",
   "execution_count": null,
   "metadata": {},
   "outputs": [],
   "source": [
    "x = np.random.uniform(0, 120, size=20)\n",
    "y = np.random.uniform(0, 80, size=20)\n",
    "endx = np.random.uniform(0, 120, size=20)\n",
    "endy = np.random.uniform(0, 80, size=20)\n",
    "mask = np.random.choice([True, False], size=20, p=[0.2, 0.8])\n",
    "endx[mask] = np.nan\n",
    "\n",
    "pitch = Pitch(line_zorder=2)\n",
    "fig, ax = pitch.draw(figsize=(12, 8))\n",
    "pitch.arrows(x, y, endx, endy, width=4, color='red', ax=ax)\n",
    "pitch.arrows(x[~mask], y[~mask], endx[~mask], endy[~mask], width=2, ax=ax)"
   ]
  },
  {
   "cell_type": "code",
   "execution_count": null,
   "metadata": {},
   "outputs": [],
   "source": [
    "x = np.random.uniform(0, 120, size=20)\n",
    "y = np.random.uniform(0, 80, size=20)\n",
    "endx = np.random.uniform(0, 120, size=20)\n",
    "endy = np.random.uniform(0, 80, size=20)\n",
    "mask = np.random.choice([True, False], size=20, p=[0.2, 0.8])\n",
    "endx[mask] = np.nan\n",
    "\n",
    "pitch = Pitch(line_zorder=2)\n",
    "fig, ax = pitch.draw(figsize=(12, 8))\n",
    "pitch.lines(x, y, endx, endy, linewidth=4, color='red', ax=ax)\n",
    "pitch.lines(x[~mask], y[~mask], endx[~mask], endy[~mask], linewidth=2, ax=ax)"
   ]
  },
  {
   "cell_type": "code",
   "execution_count": null,
   "metadata": {},
   "outputs": [],
   "source": [
    "x = np.random.uniform(0, 120, size=20)\n",
    "y = np.random.uniform(0, 80, size=20)\n",
    "endx = np.random.uniform(0, 120, size=20)\n",
    "endy = np.random.uniform(0, 80, size=20)\n",
    "mask = np.random.choice([True, False], size=20, p=[0.2, 0.8])\n",
    "endx[mask] = np.nan\n",
    "\n",
    "pitch = Pitch(line_zorder=2)\n",
    "fig, ax = pitch.draw(figsize=(12, 8))\n",
    "pitch.lines(x, y, endx, endy, linewidth=4, color='red', comet=True, ax=ax)\n",
    "pitch.lines(x[~mask], y[~mask], endx[~mask], endy[~mask], linewidth=2, comet=True, ax=ax)"
   ]
  },
  {
   "cell_type": "code",
   "execution_count": null,
   "metadata": {},
   "outputs": [],
   "source": [
    "pitch = Pitch(line_zorder=2)\n",
    "fig, axs = pitch.draw(ncols=2, figsize=(12, 8))\n",
    "pitch.goal_angle([110, 95], [35, 45], alpha=0.5, ax=axs[0])\n",
    "pitch.goal_angle([110, np.nan], [35, 45], alpha=0.5, ax=axs[1])"
   ]
  },
  {
   "cell_type": "code",
   "execution_count": null,
   "metadata": {},
   "outputs": [],
   "source": [
    "pitch = Pitch(line_zorder=2)\n",
    "x = np.random.uniform(0, 120, size=20)\n",
    "y = np.random.uniform(0, 80, size=20)\n",
    "endx = np.random.uniform(0, 120, size=20)\n",
    "endy = np.random.uniform(0, 80, size=20)\n",
    "mask = np.random.choice([True, False], size=20, p=[0.2, 0.8])\n",
    "endx[mask] = np.nan\n",
    "angle, distance = pitch.calculate_angle_and_distance(x, y, endx, endy)\n",
    "print('end nan')\n",
    "print(angle[mask])\n",
    "print(distance[mask])\n",
    "print('end not nan')\n",
    "print(angle[~mask])\n",
    "print(distance[~mask])"
   ]
  },
  {
   "cell_type": "code",
   "execution_count": null,
   "metadata": {},
   "outputs": [],
   "source": [
    "x = np.random.uniform(0, 120, size=20)\n",
    "y = np.random.uniform(0, 80, size=20)\n",
    "endx = np.random.uniform(0, 120, size=20)\n",
    "endy = np.random.uniform(0, 80, size=20)\n",
    "mask = np.random.choice([True, False], size=20, p=[0.2, 0.8])\n",
    "endx[mask] = np.nan\n",
    "\n",
    "pitch = Pitch(line_zorder=2)\n",
    "fig, ax = pitch.draw(figsize=(12, 8))\n",
    "pitch.lines(x, y, endx, endy, linewidth=4, color='red', ax=ax)\n",
    "pitch.lines(x[~mask], y[~mask], endx[~mask], endy[~mask], linewidth=2, ax=ax)"
   ]
  },
  {
   "cell_type": "code",
   "execution_count": null,
   "metadata": {},
   "outputs": [],
   "source": [
    "x = np.random.uniform(0, 120, size=20)\n",
    "y = np.random.uniform(0, 80, size=20)\n",
    "endx = np.random.uniform(0, 120, size=20)\n",
    "endy = np.random.uniform(0, 80, size=20)\n",
    "mask = np.random.choice([True, False], size=20, p=[0.2, 0.8])\n",
    "x[mask] = np.nan\n",
    "\n",
    "pitch = Pitch(line_zorder=2)\n",
    "fig, axs = pitch.draw(figsize=(12, 8), ncols=2)\n",
    "pitch.flow(x, y, endx, endy, ax=axs[0])\n",
    "pitch.flow(x[~mask], y[~mask], endx[~mask], endy[~mask], ax=axs[1])"
   ]
  },
  {
   "cell_type": "code",
   "execution_count": null,
   "metadata": {},
   "outputs": [],
   "source": [
    "pitch = Pitch(line_zorder=2)\n",
    "fig, axs = pitch.draw(figsize=(12, 8), ncols=2)\n",
    "x = np.random.uniform(0, 120, size=22)\n",
    "y = np.random.uniform(0, 80, size=22)\n",
    "teams = np.array([0] * 11 + [1] * 11)\n",
    "\n",
    "team1, team2 = pitch.voronoi(x, y, teams)\n",
    "pitch.polygon(team1, ax=axs[0], color='blue', alpha=0.5)\n",
    "pitch.scatter(x[teams==1], y[teams==1], ax=axs[0], color='blue')\n",
    "pitch.polygon(team2, ax=axs[0], color='red', alpha=0.5)\n",
    "pitch.scatter(x[teams==0], y[teams==0], ax=axs[0], color='red')\n",
    "\n",
    "x[11] = np.nan\n",
    "team1, team2 = pitch.voronoi(x, y, teams)\n",
    "pitch.polygon(team1, ax=axs[1], color='blue', alpha=0.5)\n",
    "pitch.scatter(x[teams==1], y[teams==1], ax=axs[1], color='blue')\n",
    "pitch.polygon(team2, ax=axs[0], color='red', alpha=0.5)\n",
    "pitch.scatter(x[teams==0], y[teams==0], ax=axs[1], color='red')"
   ]
  }
 ],
 "metadata": {
  "kernelspec": {
   "display_name": "Python 3 (ipykernel)",
   "language": "python",
   "name": "python3"
  },
  "language_info": {
   "codemirror_mode": {
    "name": "ipython",
    "version": 3
   },
   "file_extension": ".py",
   "mimetype": "text/x-python",
   "name": "python",
   "nbconvert_exporter": "python",
   "pygments_lexer": "ipython3",
   "version": "3.11.9"
  }
 },
 "nbformat": 4,
 "nbformat_minor": 4
}
